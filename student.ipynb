{
 "cells": [
  {
   "cell_type": "markdown",
   "metadata": {},
   "source": [
    "## Final Project Submission\n",
    "\n",
    "Please fill out:\n",
    "* Student name: \n",
    "* Student pace: self paced / part time / full time\n",
    "* Scheduled project review date/time: \n",
    "* Instructor name: \n",
    "* Blog post URL:\n"
   ]
  },
  {
   "cell_type": "markdown",
   "metadata": {},
   "source": [
    "# NORTHWESTERN COUNTY REAL ESTATE PROJECT"
   ]
  },
  {
   "cell_type": "markdown",
   "metadata": {},
   "source": [
    "# Business Understanding."
   ]
  },
  {
   "cell_type": "markdown",
   "metadata": {},
   "source": [
    "# 1.1 Overview"
   ]
  },
  {
   "cell_type": "markdown",
   "metadata": {},
   "source": [
    "As a major sector of the economy, the real estate market is highly dependent on several factors to achieve success, mainly precise house price forecasts. A real estate agency in King County, Washington state is looking for help in determining the primary factors that affect property values within the region. This project uses data from the King County House Sales dataset, which contains past real estate sales data that includes information on a variety of properties such as the previous sale price, the grade of the home and the year of construction. Some of the challenges that affect the real estate market are economic downturns like decrease in demand of property or increase in housing prices causing challenges of affordability and insufficient data that makes it difficult to make a recommendation system. A solution would be to create a combination of several multiple linear regression models in order to identify trends in the data. The project's objective is to create a thorough advice system for the agency that will help homeowners understand how house renovations may affect the estimated worth of their properties. "
   ]
  },
  {
   "cell_type": "markdown",
   "metadata": {},
   "source": [
    "# 1.2 Stakeholders"
   ]
  },
  {
   "cell_type": "markdown",
   "metadata": {},
   "source": [
    "The stakeholders in this analysis are: the real estate agency, real estate developers, potential investors, potential customers and home owners"
   ]
  },
  {
   "cell_type": "markdown",
   "metadata": {},
   "source": [
    "# 1.3 Business Problem"
   ]
  },
  {
   "cell_type": "markdown",
   "metadata": {},
   "source": [
    "A real estate agency from King County tasked us to analyze how different features affect prices of homes since as stakeholders, they don't have a reliable system that offers data driven insights and predictions to these home prices. Based on the particular characteristics of the homeowner's property, we will use data analytics and predictive modeling through simple and multiple linear regression approaches to; help homeowners accurately assess the value of their own houses, investors find potentially discounted properties, and real estate agents will be able to counsel their customers on pricing approaches by predicting home prices with ease."
   ]
  },
  {
   "cell_type": "markdown",
   "metadata": {},
   "source": [
    "# 1.4 Objectives"
   ]
  },
  {
   "cell_type": "markdown",
   "metadata": {},
   "source": [
    "The key objectives for this analysis are as follows;\n",
    "1.\tPredicting home prices: To create a predictive model that estimates increase in market value of home based on renovation factors.\n",
    "\n",
    "2.\tIdentifying the most important features: To review which renovation variables have the highest impact on increasing estimated value of a home.\n",
    "- How much is the likely increase in the sale price by adding an additional floor?\n",
    "- How much is the likely increase in the sale price by adding an extension to the living space in the home?\n",
    "- How much is the likely increase in the sale price by adding an additional bedroom?\n",
    "\n",
    "3.\tMonitoring real estate market trends: To learn more about the regions with the highest and lowest average sale price as well as the most in-demand property types.\n",
    "\n"
   ]
  },
  {
   "cell_type": "markdown",
   "metadata": {},
   "source": [
    "# DATA UNDERSTANDING"
   ]
  },
  {
   "cell_type": "markdown",
   "metadata": {},
   "source": [
    "The research retrieves information from King County House Sales dataset which contains the kc_house_data.csv file used to forecast the sales price of homes in King County.\n",
    "\n",
    "`Description`: It comprises of 21,597 housing observations and 20 house features along with a column indicating the home id. The data covers homes sold between May 2014 and May 2015"
   ]
  },
  {
   "cell_type": "markdown",
   "metadata": {},
   "source": [
    "The columns in the dataset are:\n",
    "\n",
    "Numerical Columns (15)\n",
    "\n",
    "- date - Date house was sold\n",
    "\n",
    "- price - Sale price (prediction target)\n",
    "\n",
    "- bedrooms - Number of bedrooms\n",
    "\n",
    "- bathrooms - Number of bathrooms\n",
    "\n",
    "- sqft_living - Square footage of living space in the home\n",
    "\n",
    "- sqft_lot - Square footage of the lot\n",
    "\n",
    "- floors - Number of floors (levels) in house\n",
    "\n",
    "- sqft_above - Square footage of house apart from basement\n",
    "\n",
    "- sqft_basement - Square footage of the basement\n",
    "\n",
    "- yr_built - Year when house was built\n",
    "\n",
    "- yr_renovated - Year when house was renovated\n",
    "\n",
    "- lat - Latitude coordinate\n",
    "\n",
    "- long - Longitude coordinate\n",
    "\n",
    "- sqft_living15 - The square footage of interior housing living space for the nearest 15 neighbors\n",
    "\n",
    "- sqft_lot15 - The square footage of the land lots of the nearest 15 neighbors\n",
    "\n",
    "Categorical Columns (6)\n",
    "- id - Unique ID for each home sold\n",
    "\n",
    "- waterfront - Whether the house has a view to a waterfront\n",
    "\n",
    "- view - how good the view of the property was\n",
    "\n",
    "- condition - the condition of the house\n",
    "\n",
    "- grade - overall grade of the house. Related to the construction and design of the house \n",
    "\n",
    "- zipcode - What zip code area the house is in\n"
   ]
  },
  {
   "cell_type": "markdown",
   "metadata": {},
   "source": [
    "`Key variables:`\n",
    "price, bedrooms, sqft living, floors\n"
   ]
  },
  {
   "cell_type": "markdown",
   "metadata": {},
   "source": [
    "`Target Variable`: The `\"price\"` of the properties is the project's target variable. This indicates that other independent variables, such as the attributes of the property (square footage, number of bedrooms, location, etc.), are what predict or explain the outcome or goal variable. The price of a property will be the variable being modeled or projected in statistical modeling and analysis based on the values of other variables.\n",
    "\n",
    "These variables will be used to answer the data questions and derive actionable insights to the real estate agency on how to make predictions on price based on features affecting sales\n"
   ]
  },
  {
   "cell_type": "markdown",
   "metadata": {},
   "source": []
  }
 ],
 "metadata": {
  "kernelspec": {
   "display_name": "Python 3",
   "language": "python",
   "name": "python3"
  },
  "language_info": {
   "codemirror_mode": {
    "name": "ipython",
    "version": 3
   },
   "file_extension": ".py",
   "mimetype": "text/x-python",
   "name": "python",
   "nbconvert_exporter": "python",
   "pygments_lexer": "ipython3",
   "version": "3.8.5"
  }
 },
 "nbformat": 4,
 "nbformat_minor": 2
}
