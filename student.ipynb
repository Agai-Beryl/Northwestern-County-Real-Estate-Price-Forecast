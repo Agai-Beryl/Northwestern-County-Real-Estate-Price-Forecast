{
 "cells": [
  {
   "cell_type": "markdown",
   "metadata": {},
   "source": [
    "## Final Project Submission\n",
    "\n",
    "Please fill out:\n",
    "* Student name: \n",
    "* Student pace: self paced / part time / full time\n",
    "* Scheduled project review date/time: \n",
    "* Instructor name: \n",
    "* Blog post URL:\n"
   ]
  },
  {
   "cell_type": "markdown",
   "metadata": {},
   "source": [
    "# NORTHWESTERN COUNTY REAL ESTATE PROJECT"
   ]
  },
  {
   "cell_type": "markdown",
   "metadata": {},
   "source": [
    "# Business Understanding."
   ]
  },
  {
   "cell_type": "markdown",
   "metadata": {},
   "source": [
    "# 1.1 Overview"
   ]
  },
  {
   "cell_type": "markdown",
   "metadata": {},
   "source": [
    "As a major sector of the economy, the real estate market is highly dependent on several factors to achieve success, mainly precise house price forecasts. A real estate agency in King County, Washington state is looking for help in determining the primary factors that affect property values within the region. This project uses data from the King County House Sales dataset, which contains past real estate sales data that includes information on a variety of properties such as the previous sale price, the grade of the home and the year of construction. Some of the challenges that affect the real estate market are economic downturns like decrease in demand of property or increase in housing prices causing challenges of affordability and insufficient data that makes it difficult to make a recommendation system. A solution would be to create a combination of several multiple linear regression models in order to identify trends in the data. The project's objective is to create a thorough advice system for the agency that will help homeowners understand how house renovations may affect the estimated worth of their properties. "
   ]
  },
  {
   "cell_type": "markdown",
   "metadata": {},
   "source": [
    "# 1.2 Stakeholders"
   ]
  },
  {
   "cell_type": "markdown",
   "metadata": {},
   "source": [
    "The stakeholders in this analysis are: the real estate agency, real estate developers, potential investors, potential customers and home owners"
   ]
  },
  {
   "cell_type": "markdown",
   "metadata": {},
   "source": [
    "# 1.3 Business Problem"
   ]
  },
  {
   "cell_type": "markdown",
   "metadata": {},
   "source": [
    "A real estate agency from King County tasked us to analyze how different features affect prices of homes since as stakeholders, they don't have a reliable system that offers data driven insights and predictions to these home prices. Based on the particular characteristics of the homeowner's property, we will use data analytics and predictive modeling through simple and multiple linear regression approaches to; help homeowners accurately assess the value of their own houses, investors find potentially discounted properties, and real estate agents will be able to counsel their customers on pricing approaches by predicting home prices with ease."
   ]
  },
  {
   "cell_type": "markdown",
   "metadata": {},
   "source": [
    "# 1.4 Objectives"
   ]
  },
  {
   "cell_type": "markdown",
   "metadata": {},
   "source": [
    "The key objectives for this analysis are as follows;\n",
    "1.\tPredicting home prices: To create a predictive model that estimates increase in market value of home based on renovation factors.\n",
    "\n",
    "2.\tIdentifying the most important features: To review which renovation variables have the highest impact on increasing estimated value of a home.\n",
    "- How much is the likely increase in the sale price by adding an additional floor?\n",
    "- How much is the likely increase in the sale price by adding an extension to the living space in the home?\n",
    "- How much is the likely increase in the sale price by adding an additional bedroom?\n",
    "\n",
    "3.\tMonitoring real estate market trends: To learn more about the regions with the highest and lowest average sale price as well as the most in-demand property types.\n",
    "\n"
   ]
  },
  {
   "cell_type": "markdown",
   "metadata": {},
   "source": [
    "# DATA UNDERSTANDING"
   ]
  },
  {
   "cell_type": "markdown",
   "metadata": {},
   "source": [
    "The research retrieves information from King County House Sales dataset which contains the kc_house_data.csv file used to forecast the sales price of homes in King County.\n",
    "\n",
    "`Description`: It comprises of 21,597 housing observations and 20 house features along with a column indicating the home id. The data covers homes sold between May 2014 and May 2015"
   ]
  },
  {
   "cell_type": "markdown",
   "metadata": {},
   "source": [
    "The columns in the dataset are:\n",
    "\n",
    "Numerical Columns (15)\n",
    "\n",
    "- date - Date house was sold\n",
    "\n",
    "- price - Sale price (prediction target)\n",
    "\n",
    "- bedrooms - Number of bedrooms\n",
    "\n",
    "- bathrooms - Number of bathrooms\n",
    "\n",
    "- sqft_living - Square footage of living space in the home\n",
    "\n",
    "- sqft_lot - Square footage of the lot\n",
    "\n",
    "- floors - Number of floors (levels) in house\n",
    "\n",
    "- sqft_above - Square footage of house apart from basement\n",
    "\n",
    "- sqft_basement - Square footage of the basement\n",
    "\n",
    "- yr_built - Year when house was built\n",
    "\n",
    "- yr_renovated - Year when house was renovated\n",
    "\n",
    "- lat - Latitude coordinate\n",
    "\n",
    "- long - Longitude coordinate\n",
    "\n",
    "- sqft_living15 - The square footage of interior housing living space for the nearest 15 neighbors\n",
    "\n",
    "- sqft_lot15 - The square footage of the land lots of the nearest 15 neighbors\n",
    "\n",
    "Categorical Columns (6)\n",
    "- id - Unique ID for each home sold\n",
    "\n",
    "- waterfront - Whether the house has a view to a waterfront\n",
    "\n",
    "- view - how good the view of the property was\n",
    "\n",
    "- condition - the condition of the house\n",
    "\n",
    "- grade - overall grade of the house. Related to the construction and design of the house \n",
    "\n",
    "- zipcode - What zip code area the house is in\n"
   ]
  },
  {
   "cell_type": "markdown",
   "metadata": {},
   "source": [
    "`Key variables:`\n",
    "price, bedrooms, sqft living, floors\n"
   ]
  },
  {
   "cell_type": "markdown",
   "metadata": {},
   "source": [
    "`Target Variable`: The `\"price\"` of the properties is the project's target variable. This indicates that other independent variables, such as the attributes of the property (square footage, number of bedrooms, location, etc.), are what predict or explain the outcome or goal variable. The price of a property will be the variable being modeled or projected in statistical modeling and analysis based on the values of other variables.\n",
    "\n",
    "These variables will be used to answer the data questions and derive actionable insights to the real estate agency on how to make predictions on price based on features affecting sales\n"
   ]
  },
  {
   "cell_type": "markdown",
   "metadata": {},
   "source": [
    "## Load data\n",
    "\n",
    "### Library Imports\n",
    "Begin with importing all the neccessary libraries and packages that will be useful during this project"
   ]
  },
  {
   "cell_type": "code",
   "execution_count": 159,
   "metadata": {},
   "outputs": [],
   "source": [
    "# First we import packages to be used.\n",
    "import markdown\n",
    "import pandas as pd\n",
    "import numpy as np\n",
    "import csv\n",
    "import statsmodels.api as sm\n",
    "from statsmodels.formula.api import ols\n",
    "import matplotlib.pyplot as plt\n",
    "import seaborn as sns\n",
    "import scipy.stats as stats\n",
    "from sklearn.linear_model import LinearRegression\n",
    "from sklearn.model_selection import train_test_split\n",
    "from sklearn.model_selection import cross_val_score\n",
    "from sklearn import linear_model\n",
    "from sklearn.model_selection import KFold\n",
    "import scipy.stats as stats\n",
    "\n",
    "plt.style.use('seaborn')"
   ]
  },
  {
   "cell_type": "markdown",
   "metadata": {},
   "source": [
    "### Data cleaning\n",
    "Functions are used to promotes modularity, reusability, abstraction, encapsulation and readability, all of which contribute to writing cleaner, more maintainable, and efficient codes. \n",
    ">We created a function that: \n",
    ">1. loads the data from the CSV file.\n",
    ">2. Converts the date feature from object datatype to datetime format.  \n",
    ">3. Splits the grade column into two columns to create two features: grade_ and grade_comments.\n",
    "\n",
    "**N/B:** The split functions splits the grade feature to form two features one interger datatype and the other string datatype which gives comment on the grade."
   ]
  },
  {
   "cell_type": "code",
   "execution_count": 160,
   "metadata": {},
   "outputs": [],
   "source": [
    "def load_data(filepath):\n",
    "    # Read CSV file\n",
    "    data = pd.read_csv(filepath)\n",
    "    \n",
    "    # Convert 'date' column to datetime format\n",
    "    data[\"date\"] = pd.to_datetime(data['date'])\n",
    "    \n",
    "    # Split 'grade' column into 'grade_' and 'grade_comment'\n",
    "    data[[\"grade_\", \"grade_comment\"]] = (\n",
    "        data[\"grade\"].str.split(\" \", n=1, expand=True)\n",
    "    )\n",
    "\n",
    "    return data"
   ]
  },
  {
   "cell_type": "code",
   "execution_count": 161,
   "metadata": {},
   "outputs": [],
   "source": [
    "df = load_data(\"data/kc_house_data.csv\")"
   ]
  },
  {
   "cell_type": "code",
   "execution_count": 162,
   "metadata": {},
   "outputs": [
    {
     "data": {
      "text/html": [
       "<div>\n",
       "<style scoped>\n",
       "    .dataframe tbody tr th:only-of-type {\n",
       "        vertical-align: middle;\n",
       "    }\n",
       "\n",
       "    .dataframe tbody tr th {\n",
       "        vertical-align: top;\n",
       "    }\n",
       "\n",
       "    .dataframe thead th {\n",
       "        text-align: right;\n",
       "    }\n",
       "</style>\n",
       "<table border=\"1\" class=\"dataframe\">\n",
       "  <thead>\n",
       "    <tr style=\"text-align: right;\">\n",
       "      <th></th>\n",
       "      <th>id</th>\n",
       "      <th>date</th>\n",
       "      <th>price</th>\n",
       "      <th>bedrooms</th>\n",
       "      <th>bathrooms</th>\n",
       "      <th>sqft_living</th>\n",
       "      <th>sqft_lot</th>\n",
       "      <th>floors</th>\n",
       "      <th>waterfront</th>\n",
       "      <th>view</th>\n",
       "      <th>...</th>\n",
       "      <th>sqft_basement</th>\n",
       "      <th>yr_built</th>\n",
       "      <th>yr_renovated</th>\n",
       "      <th>zipcode</th>\n",
       "      <th>lat</th>\n",
       "      <th>long</th>\n",
       "      <th>sqft_living15</th>\n",
       "      <th>sqft_lot15</th>\n",
       "      <th>grade_</th>\n",
       "      <th>grade_comment</th>\n",
       "    </tr>\n",
       "  </thead>\n",
       "  <tbody>\n",
       "    <tr>\n",
       "      <th>0</th>\n",
       "      <td>7129300520</td>\n",
       "      <td>2014-10-13</td>\n",
       "      <td>221900.0</td>\n",
       "      <td>3</td>\n",
       "      <td>1.00</td>\n",
       "      <td>1180</td>\n",
       "      <td>5650</td>\n",
       "      <td>1.0</td>\n",
       "      <td>NaN</td>\n",
       "      <td>NONE</td>\n",
       "      <td>...</td>\n",
       "      <td>0.0</td>\n",
       "      <td>1955</td>\n",
       "      <td>0.0</td>\n",
       "      <td>98178</td>\n",
       "      <td>47.5112</td>\n",
       "      <td>-122.257</td>\n",
       "      <td>1340</td>\n",
       "      <td>5650</td>\n",
       "      <td>7</td>\n",
       "      <td>Average</td>\n",
       "    </tr>\n",
       "    <tr>\n",
       "      <th>1</th>\n",
       "      <td>6414100192</td>\n",
       "      <td>2014-12-09</td>\n",
       "      <td>538000.0</td>\n",
       "      <td>3</td>\n",
       "      <td>2.25</td>\n",
       "      <td>2570</td>\n",
       "      <td>7242</td>\n",
       "      <td>2.0</td>\n",
       "      <td>NO</td>\n",
       "      <td>NONE</td>\n",
       "      <td>...</td>\n",
       "      <td>400.0</td>\n",
       "      <td>1951</td>\n",
       "      <td>1991.0</td>\n",
       "      <td>98125</td>\n",
       "      <td>47.7210</td>\n",
       "      <td>-122.319</td>\n",
       "      <td>1690</td>\n",
       "      <td>7639</td>\n",
       "      <td>7</td>\n",
       "      <td>Average</td>\n",
       "    </tr>\n",
       "    <tr>\n",
       "      <th>2</th>\n",
       "      <td>5631500400</td>\n",
       "      <td>2015-02-25</td>\n",
       "      <td>180000.0</td>\n",
       "      <td>2</td>\n",
       "      <td>1.00</td>\n",
       "      <td>770</td>\n",
       "      <td>10000</td>\n",
       "      <td>1.0</td>\n",
       "      <td>NO</td>\n",
       "      <td>NONE</td>\n",
       "      <td>...</td>\n",
       "      <td>0.0</td>\n",
       "      <td>1933</td>\n",
       "      <td>NaN</td>\n",
       "      <td>98028</td>\n",
       "      <td>47.7379</td>\n",
       "      <td>-122.233</td>\n",
       "      <td>2720</td>\n",
       "      <td>8062</td>\n",
       "      <td>6</td>\n",
       "      <td>Low Average</td>\n",
       "    </tr>\n",
       "    <tr>\n",
       "      <th>3</th>\n",
       "      <td>2487200875</td>\n",
       "      <td>2014-12-09</td>\n",
       "      <td>604000.0</td>\n",
       "      <td>4</td>\n",
       "      <td>3.00</td>\n",
       "      <td>1960</td>\n",
       "      <td>5000</td>\n",
       "      <td>1.0</td>\n",
       "      <td>NO</td>\n",
       "      <td>NONE</td>\n",
       "      <td>...</td>\n",
       "      <td>910.0</td>\n",
       "      <td>1965</td>\n",
       "      <td>0.0</td>\n",
       "      <td>98136</td>\n",
       "      <td>47.5208</td>\n",
       "      <td>-122.393</td>\n",
       "      <td>1360</td>\n",
       "      <td>5000</td>\n",
       "      <td>7</td>\n",
       "      <td>Average</td>\n",
       "    </tr>\n",
       "    <tr>\n",
       "      <th>4</th>\n",
       "      <td>1954400510</td>\n",
       "      <td>2015-02-18</td>\n",
       "      <td>510000.0</td>\n",
       "      <td>3</td>\n",
       "      <td>2.00</td>\n",
       "      <td>1680</td>\n",
       "      <td>8080</td>\n",
       "      <td>1.0</td>\n",
       "      <td>NO</td>\n",
       "      <td>NONE</td>\n",
       "      <td>...</td>\n",
       "      <td>0.0</td>\n",
       "      <td>1987</td>\n",
       "      <td>0.0</td>\n",
       "      <td>98074</td>\n",
       "      <td>47.6168</td>\n",
       "      <td>-122.045</td>\n",
       "      <td>1800</td>\n",
       "      <td>7503</td>\n",
       "      <td>8</td>\n",
       "      <td>Good</td>\n",
       "    </tr>\n",
       "  </tbody>\n",
       "</table>\n",
       "<p>5 rows × 23 columns</p>\n",
       "</div>"
      ],
      "text/plain": [
       "           id       date     price  bedrooms  bathrooms  sqft_living  \\\n",
       "0  7129300520 2014-10-13  221900.0         3       1.00         1180   \n",
       "1  6414100192 2014-12-09  538000.0         3       2.25         2570   \n",
       "2  5631500400 2015-02-25  180000.0         2       1.00          770   \n",
       "3  2487200875 2014-12-09  604000.0         4       3.00         1960   \n",
       "4  1954400510 2015-02-18  510000.0         3       2.00         1680   \n",
       "\n",
       "   sqft_lot  floors waterfront  view  ... sqft_basement yr_built  \\\n",
       "0      5650     1.0        NaN  NONE  ...           0.0     1955   \n",
       "1      7242     2.0         NO  NONE  ...         400.0     1951   \n",
       "2     10000     1.0         NO  NONE  ...           0.0     1933   \n",
       "3      5000     1.0         NO  NONE  ...         910.0     1965   \n",
       "4      8080     1.0         NO  NONE  ...           0.0     1987   \n",
       "\n",
       "   yr_renovated zipcode      lat     long  sqft_living15  sqft_lot15  grade_  \\\n",
       "0           0.0   98178  47.5112 -122.257           1340        5650       7   \n",
       "1        1991.0   98125  47.7210 -122.319           1690        7639       7   \n",
       "2           NaN   98028  47.7379 -122.233           2720        8062       6   \n",
       "3           0.0   98136  47.5208 -122.393           1360        5000       7   \n",
       "4           0.0   98074  47.6168 -122.045           1800        7503       8   \n",
       "\n",
       "   grade_comment  \n",
       "0        Average  \n",
       "1        Average  \n",
       "2    Low Average  \n",
       "3        Average  \n",
       "4           Good  \n",
       "\n",
       "[5 rows x 23 columns]"
      ]
     },
     "execution_count": 162,
     "metadata": {},
     "output_type": "execute_result"
    }
   ],
   "source": [
    "df.head()"
   ]
  },
  {
   "cell_type": "markdown",
   "metadata": {},
   "source": [
    "From the data loaded we can see the grade feature split to two features .This will be useful when performing statistical tests later on during our analysis,where we require numerical data compaired to categorical data. Also,the sqft_living, sqft_lot, sqft_above, sqft_living15, and sqft_lot15 columns represent continuous variables while the bedrooms, bathrooms, and floors columns have integer values."
   ]
  },
  {
   "cell_type": "markdown",
   "metadata": {},
   "source": [
    "We then use the pandas method $ df.info() $ to  retrieve concise information about the DataFrame, such as the number of non-null values in each column, the data type of each column, and memory usage."
   ]
  },
  {
   "cell_type": "code",
   "execution_count": 163,
   "metadata": {},
   "outputs": [
    {
     "name": "stdout",
     "output_type": "stream",
     "text": [
      "<class 'pandas.core.frame.DataFrame'>\n",
      "RangeIndex: 21597 entries, 0 to 21596\n",
      "Data columns (total 23 columns):\n",
      " #   Column         Non-Null Count  Dtype         \n",
      "---  ------         --------------  -----         \n",
      " 0   id             21597 non-null  int64         \n",
      " 1   date           21597 non-null  datetime64[ns]\n",
      " 2   price          21597 non-null  float64       \n",
      " 3   bedrooms       21597 non-null  int64         \n",
      " 4   bathrooms      21597 non-null  float64       \n",
      " 5   sqft_living    21597 non-null  int64         \n",
      " 6   sqft_lot       21597 non-null  int64         \n",
      " 7   floors         21597 non-null  float64       \n",
      " 8   waterfront     19221 non-null  object        \n",
      " 9   view           21534 non-null  object        \n",
      " 10  condition      21597 non-null  object        \n",
      " 11  grade          21597 non-null  object        \n",
      " 12  sqft_above     21597 non-null  int64         \n",
      " 13  sqft_basement  21597 non-null  object        \n",
      " 14  yr_built       21597 non-null  int64         \n",
      " 15  yr_renovated   17755 non-null  float64       \n",
      " 16  zipcode        21597 non-null  int64         \n",
      " 17  lat            21597 non-null  float64       \n",
      " 18  long           21597 non-null  float64       \n",
      " 19  sqft_living15  21597 non-null  int64         \n",
      " 20  sqft_lot15     21597 non-null  int64         \n",
      " 21  grade_         21597 non-null  object        \n",
      " 22  grade_comment  21597 non-null  object        \n",
      "dtypes: datetime64[ns](1), float64(6), int64(9), object(7)\n",
      "memory usage: 3.8+ MB\n"
     ]
    }
   ],
   "source": [
    "df.info()"
   ]
  },
  {
   "cell_type": "markdown",
   "metadata": {},
   "source": [
    "Notice that ,the datatype for the date feature is in date time format.Converting dates to datetime format enhances the consistency, flexibility, and functionality of your data, making it easier to work with and analyze."
   ]
  },
  {
   "cell_type": "markdown",
   "metadata": {},
   "source": [
    "From the information above we are able to identify the numerical data. Select the numerical data and use the $.describe()$  method to  quickly understanding the distribution and summary statistics of numerical data in your DataFrame, which can be helpful during data exploration and analysis.\n"
   ]
  },
  {
   "cell_type": "code",
   "execution_count": 164,
   "metadata": {},
   "outputs": [
    {
     "data": {
      "text/html": [
       "<div>\n",
       "<style scoped>\n",
       "    .dataframe tbody tr th:only-of-type {\n",
       "        vertical-align: middle;\n",
       "    }\n",
       "\n",
       "    .dataframe tbody tr th {\n",
       "        vertical-align: top;\n",
       "    }\n",
       "\n",
       "    .dataframe thead th {\n",
       "        text-align: right;\n",
       "    }\n",
       "</style>\n",
       "<table border=\"1\" class=\"dataframe\">\n",
       "  <thead>\n",
       "    <tr style=\"text-align: right;\">\n",
       "      <th></th>\n",
       "      <th>bedrooms</th>\n",
       "      <th>bathrooms</th>\n",
       "      <th>sqft_living</th>\n",
       "      <th>sqft_lot</th>\n",
       "      <th>floors</th>\n",
       "      <th>sqft_above</th>\n",
       "      <th>sqft_living15</th>\n",
       "      <th>sqft_lot15</th>\n",
       "    </tr>\n",
       "  </thead>\n",
       "  <tbody>\n",
       "    <tr>\n",
       "      <th>count</th>\n",
       "      <td>21597.000000</td>\n",
       "      <td>21597.000000</td>\n",
       "      <td>21597.000000</td>\n",
       "      <td>2.159700e+04</td>\n",
       "      <td>21597.000000</td>\n",
       "      <td>21597.000000</td>\n",
       "      <td>21597.000000</td>\n",
       "      <td>21597.000000</td>\n",
       "    </tr>\n",
       "    <tr>\n",
       "      <th>mean</th>\n",
       "      <td>3.373200</td>\n",
       "      <td>2.115826</td>\n",
       "      <td>2080.321850</td>\n",
       "      <td>1.509941e+04</td>\n",
       "      <td>1.494096</td>\n",
       "      <td>1788.596842</td>\n",
       "      <td>1986.620318</td>\n",
       "      <td>12758.283512</td>\n",
       "    </tr>\n",
       "    <tr>\n",
       "      <th>std</th>\n",
       "      <td>0.926299</td>\n",
       "      <td>0.768984</td>\n",
       "      <td>918.106125</td>\n",
       "      <td>4.141264e+04</td>\n",
       "      <td>0.539683</td>\n",
       "      <td>827.759761</td>\n",
       "      <td>685.230472</td>\n",
       "      <td>27274.441950</td>\n",
       "    </tr>\n",
       "    <tr>\n",
       "      <th>min</th>\n",
       "      <td>1.000000</td>\n",
       "      <td>0.500000</td>\n",
       "      <td>370.000000</td>\n",
       "      <td>5.200000e+02</td>\n",
       "      <td>1.000000</td>\n",
       "      <td>370.000000</td>\n",
       "      <td>399.000000</td>\n",
       "      <td>651.000000</td>\n",
       "    </tr>\n",
       "    <tr>\n",
       "      <th>25%</th>\n",
       "      <td>3.000000</td>\n",
       "      <td>1.750000</td>\n",
       "      <td>1430.000000</td>\n",
       "      <td>5.040000e+03</td>\n",
       "      <td>1.000000</td>\n",
       "      <td>1190.000000</td>\n",
       "      <td>1490.000000</td>\n",
       "      <td>5100.000000</td>\n",
       "    </tr>\n",
       "    <tr>\n",
       "      <th>50%</th>\n",
       "      <td>3.000000</td>\n",
       "      <td>2.250000</td>\n",
       "      <td>1910.000000</td>\n",
       "      <td>7.618000e+03</td>\n",
       "      <td>1.500000</td>\n",
       "      <td>1560.000000</td>\n",
       "      <td>1840.000000</td>\n",
       "      <td>7620.000000</td>\n",
       "    </tr>\n",
       "    <tr>\n",
       "      <th>75%</th>\n",
       "      <td>4.000000</td>\n",
       "      <td>2.500000</td>\n",
       "      <td>2550.000000</td>\n",
       "      <td>1.068500e+04</td>\n",
       "      <td>2.000000</td>\n",
       "      <td>2210.000000</td>\n",
       "      <td>2360.000000</td>\n",
       "      <td>10083.000000</td>\n",
       "    </tr>\n",
       "    <tr>\n",
       "      <th>max</th>\n",
       "      <td>33.000000</td>\n",
       "      <td>8.000000</td>\n",
       "      <td>13540.000000</td>\n",
       "      <td>1.651359e+06</td>\n",
       "      <td>3.500000</td>\n",
       "      <td>9410.000000</td>\n",
       "      <td>6210.000000</td>\n",
       "      <td>871200.000000</td>\n",
       "    </tr>\n",
       "  </tbody>\n",
       "</table>\n",
       "</div>"
      ],
      "text/plain": [
       "           bedrooms     bathrooms   sqft_living      sqft_lot        floors  \\\n",
       "count  21597.000000  21597.000000  21597.000000  2.159700e+04  21597.000000   \n",
       "mean       3.373200      2.115826   2080.321850  1.509941e+04      1.494096   \n",
       "std        0.926299      0.768984    918.106125  4.141264e+04      0.539683   \n",
       "min        1.000000      0.500000    370.000000  5.200000e+02      1.000000   \n",
       "25%        3.000000      1.750000   1430.000000  5.040000e+03      1.000000   \n",
       "50%        3.000000      2.250000   1910.000000  7.618000e+03      1.500000   \n",
       "75%        4.000000      2.500000   2550.000000  1.068500e+04      2.000000   \n",
       "max       33.000000      8.000000  13540.000000  1.651359e+06      3.500000   \n",
       "\n",
       "         sqft_above  sqft_living15     sqft_lot15  \n",
       "count  21597.000000   21597.000000   21597.000000  \n",
       "mean    1788.596842    1986.620318   12758.283512  \n",
       "std      827.759761     685.230472   27274.441950  \n",
       "min      370.000000     399.000000     651.000000  \n",
       "25%     1190.000000    1490.000000    5100.000000  \n",
       "50%     1560.000000    1840.000000    7620.000000  \n",
       "75%     2210.000000    2360.000000   10083.000000  \n",
       "max     9410.000000    6210.000000  871200.000000  "
      ]
     },
     "execution_count": 164,
     "metadata": {},
     "output_type": "execute_result"
    }
   ],
   "source": [
    "df[[\"bedrooms\",\"bathrooms\",\"sqft_living\",\"sqft_lot\",\"floors\",\"sqft_above\",\"sqft_basement\",\"sqft_living15\",\"sqft_lot15\"]].describe()"
   ]
  },
  {
   "cell_type": "markdown",
   "metadata": {},
   "source": [
    "From simply looking at this out come you can come up with a few observations:\n",
    "* Some columns, like bedrooms and bathrooms, have a maximum value that seems unusually high compared to the other values in the dataset, suggesting potential **outliers**\n",
    "\n",
    "These observations provide insights into the nature of the numerical variables in the dataset and can guide further analysis, such as identifying and handling outliers, understanding the relationships between variables, and selecting appropriate modeling techniques. "
   ]
  },
  {
   "cell_type": "markdown",
   "metadata": {},
   "source": [
    "To visualize the outliers we use boxplots. Below is a function boxplot_outliers() which is designed to visualize potential outliers in a DataFrame using box plots.The function is defined with two parameters: df (the DataFrame containing the data) and cols (a list of column names to visualize)."
   ]
  },
  {
   "cell_type": "code",
   "execution_count": 165,
   "metadata": {},
   "outputs": [
    {
     "data": {
      "image/png": "[encoded data removed]",
      "text/plain": [
       "<Figure size 1440x720 with 8 Axes>"
      ]
     },
     "metadata": {},
     "output_type": "display_data"
    }
   ],
   "source": [
    "# function to visualize outliers \n",
    "\n",
    "def boxplot_outliers(df, cols):\n",
    "    fig, axes = plt.subplots(2, 4, figsize=(20,10))\n",
    "    axes = axes.ravel()\n",
    "    sns.set(font_scale=2.0)\n",
    "    for i, col in enumerate(cols):\n",
    "\n",
    "        # convert the x-axis variable to a numeric data type\n",
    "        \n",
    "        df[col] = df[col].astype(float)\n",
    "        sns.boxplot(x=df[col], ax=axes[i])\n",
    "        \n",
    "        axes[i].set_title(col.title())\n",
    "    plt.tight_layout()\n",
    "\n",
    "# specify the columns to plot\n",
    "\n",
    "cols = ['price', 'sqft_above', 'bathrooms', 'bedrooms', 'sqft_lot', 'sqft_living', 'grade_', 'floors']\n",
    "\n",
    "# call the plot_boxplots function\n",
    "\n",
    "boxplot_outliers(df, cols)"
   ]
  },
  {
   "cell_type": "markdown",
   "metadata": {},
   "source": [
    "Removing outliers from a dataset is a decision that depends on the context of your analysis and the specific goals of your project.It is imporntant to remove outliers in order to: preserving data integrity,improving model performance and enhancing interpretability of data. This function remove_outliers is designed to remove outliers from a given column in a DataFrame using the Z-score method. It is defined with two parameters: column (the column containing the data) and x (the threshold value for removing outliers).\n",
    ">The selection of different z-score thresholds for each variable reflects considerations of the data's characteristics and analytical requirements. A z-score threshold of 4 is applied to price and bathrooms, as these variables may exhibit extreme values due to the nature of the data, such as high-end properties or properties with numerous bathrooms. Sqft_above and sqft_lot, representing physical property attributes, use a z-score threshold of 3 to capture outliers within a reasonable range without being overly aggressive. Bedrooms, being a discrete variable with a smaller range, employ a z-score threshold of 2 to detect moderately deviating outliers. These varying thresholds balance the detection of outliers with data integrity preservation, ensuring an effective approach tailored to each variable's variability and expected value range."
   ]
  },
  {
   "cell_type": "code",
   "execution_count": 166,
   "metadata": {},
   "outputs": [
    {
     "data": {
      "image/png": "[encoded data removed]",
      "text/plain": [
       "<Figure size 1440x720 with 8 Axes>"
      ]
     },
     "metadata": {},
     "output_type": "display_data"
    }
   ],
   "source": [
    "# function to remove outliers\n",
    "\n",
    "def remove_outliers(column,x):\n",
    "    new_column = column[(np.abs(stats.zscore(column))<x)]\n",
    "    return new_column\n",
    "# remove outliers for price\n",
    "price = remove_outliers(df.price, 4)\n",
    "\n",
    "# remove outliers for sqft_above\n",
    "sqft_above_ground = remove_outliers(df.sqft_above, 3)\n",
    "\n",
    "# remove outliers for bathrooms\n",
    "bathrooms = remove_outliers(df.bathrooms, 4)\n",
    "\n",
    "# remove outliers for bedrooms\n",
    "bedrooms = remove_outliers(df.bedrooms, 2)\n",
    "\n",
    "# remove outliers for sqft_lot\n",
    "\n",
    "sqft_lot = remove_outliers(df.sqft_lot, 3)\n",
    "\n",
    "# remove outliers for sqft_living\n",
    "sqft_living = remove_outliers(df.sqft_living, 4)\n",
    "gradee = remove_outliers(df.grade_, 1.5)\n",
    "\n",
    "# combine all columns into a single dataframe\n",
    "columns = pd.concat([price, sqft_above_ground, bathrooms, bedrooms, sqft_lot, sqft_living, gradee], axis=1)\n",
    "\n",
    "# plot box plots for all columns\n",
    "boxplot_outliers(columns, columns.columns[:6])\n"
   ]
  },
  {
   "cell_type": "markdown",
   "metadata": {},
   "source": [
    "We then check for missing values in our dataset.This is done usin the  .𝑖𝑠𝑛𝑎()\n",
    "  pandas method which returns a DataFrame of the same shape as the original DataFrame, where each element is True if the corresponding element in the original DataFrame is NaN, and False if otherwise.This is done to ensure data inegrity , Model Performance as many machine learning algorithms cannot handle missing values, data quality, bias reduction and for better data interpretability."
   ]
  },
  {
   "cell_type": "code",
   "execution_count": 144,
   "metadata": {},
   "outputs": [
    {
     "data": {
      "text/plain": [
       "id                  0\n",
       "date                0\n",
       "price               0\n",
       "bedrooms            0\n",
       "bathrooms           0\n",
       "sqft_living         0\n",
       "sqft_lot            0\n",
       "floors              0\n",
       "waterfront       2376\n",
       "view               63\n",
       "condition           0\n",
       "grade               0\n",
       "sqft_above          0\n",
       "sqft_basement       0\n",
       "yr_built            0\n",
       "yr_renovated     3842\n",
       "zipcode             0\n",
       "lat                 0\n",
       "long                0\n",
       "sqft_living15       0\n",
       "sqft_lot15          0\n",
       "grade_              0\n",
       "grade_comment       0\n",
       "dtype: int64"
      ]
     },
     "execution_count": 144,
     "metadata": {},
     "output_type": "execute_result"
    }
   ],
   "source": [
    "#checking for missing values\n",
    "\n",
    "df.isna().sum()"
   ]
  },
  {
   "cell_type": "markdown",
   "metadata": {},
   "source": [
    "It  is evident that three features have null values i.e waterfront,view and  yr_renovated. When considerinf if we should drop or replace the null values we look at **impact on Analysis** and **amount of missing Data**. If only a small percentage of values are missing, imputation methods like mean, median, or mode can be suitable but if a large portion of the data is missing, dropping the column or row may be more appropriate to avoid biasing the analysis."
   ]
  },
  {
   "cell_type": "code",
   "execution_count": 167,
   "metadata": {},
   "outputs": [
    {
     "data": {
      "text/plain": [
       "False    21597\n",
       "dtype: int64"
      ]
     },
     "execution_count": 167,
     "metadata": {},
     "output_type": "execute_result"
    }
   ],
   "source": [
    "# Checking for duplicates\n",
    "df.duplicated().value_counts()"
   ]
  },
  {
   "cell_type": "code",
   "execution_count": 168,
   "metadata": {},
   "outputs": [
    {
     "data": {
      "text/plain": [
       "(21597, 23)"
      ]
     },
     "execution_count": 168,
     "metadata": {},
     "output_type": "execute_result"
    }
   ],
   "source": [
    "df.shape"
   ]
  },
  {
   "cell_type": "code",
   "execution_count": 169,
   "metadata": {},
   "outputs": [
    {
     "name": "stdout",
     "output_type": "stream",
     "text": [
      "['7 Average' '6 Low Average' '8 Good' '11 Excellent' '9 Better' '5 Fair'\n",
      " '10 Very Good' '12 Luxury' '4 Low' '3 Poor' '13 Mansion']\n"
     ]
    }
   ],
   "source": [
    "#Categoricals\n",
    "#waterfront and view also have nulls\n",
    "#grade and condition dont\n",
    "df['grade'].value_counts()\n",
    "print(df['grade'].unique())"
   ]
  },
  {
   "cell_type": "code",
   "execution_count": 148,
   "metadata": {},
   "outputs": [
    {
     "data": {
      "text/plain": [
       "NO     19075\n",
       "YES      146\n",
       "Name: waterfront, dtype: int64"
      ]
     },
     "execution_count": 148,
     "metadata": {},
     "output_type": "execute_result"
    }
   ],
   "source": [
    "#cheking the Waterfront variable\n",
    "df['waterfront'].value_counts()"
   ]
  },
  {
   "cell_type": "code",
   "execution_count": 184,
   "metadata": {},
   "outputs": [],
   "source": [
    "# replacing the null values in waterfront with UNVERIFIED\n",
    "df['waterfront'] = df['waterfront'].fillna('UNVERIFIED')"
   ]
  },
  {
   "cell_type": "code",
   "execution_count": 185,
   "metadata": {},
   "outputs": [
    {
     "data": {
      "text/plain": [
       "id                  0\n",
       "date                0\n",
       "price               0\n",
       "bedrooms            0\n",
       "bathrooms           0\n",
       "sqft_living         0\n",
       "sqft_lot            0\n",
       "floors              0\n",
       "waterfront          0\n",
       "view               63\n",
       "condition           0\n",
       "grade               0\n",
       "sqft_above          0\n",
       "sqft_basement       0\n",
       "yr_built            0\n",
       "yr_renovated     3842\n",
       "zipcode             0\n",
       "lat                 0\n",
       "long                0\n",
       "sqft_living15       0\n",
       "sqft_lot15          0\n",
       "grade_              0\n",
       "grade_comment       0\n",
       "dtype: int64"
      ]
     },
     "execution_count": 185,
     "metadata": {},
     "output_type": "execute_result"
    }
   ],
   "source": [
    "#  confirming null values in waterfront\n",
    "df.isna().sum()"
   ]
  },
  {
   "cell_type": "code",
   "execution_count": 186,
   "metadata": {},
   "outputs": [
    {
     "data": {
      "text/plain": [
       "NONE         19422\n",
       "AVERAGE        957\n",
       "GOOD           508\n",
       "FAIR           330\n",
       "EXCELLENT      317\n",
       "Name: view, dtype: int64"
      ]
     },
     "execution_count": 186,
     "metadata": {},
     "output_type": "execute_result"
    }
   ],
   "source": [
    "#checking the view variable\n",
    "df['view'].value_counts()"
   ]
  },
  {
   "cell_type": "code",
   "execution_count": 203,
   "metadata": {},
   "outputs": [],
   "source": [
    "#dropping the nulls in view column \n",
    "# df['view'].dropna(inplace=True)\n",
    "df.dropna(subset = [\"view\"], inplace=True)\n"
   ]
  },
  {
   "cell_type": "code",
   "execution_count": 198,
   "metadata": {},
   "outputs": [
    {
     "data": {
      "text/plain": [
       "id                  0\n",
       "date                0\n",
       "price               0\n",
       "bedrooms            0\n",
       "bathrooms           0\n",
       "sqft_living         0\n",
       "sqft_lot            0\n",
       "floors              0\n",
       "waterfront          0\n",
       "view                0\n",
       "condition           0\n",
       "grade               0\n",
       "sqft_above          0\n",
       "sqft_basement       0\n",
       "yr_built            0\n",
       "yr_renovated     3830\n",
       "zipcode             0\n",
       "lat                 0\n",
       "long                0\n",
       "sqft_living15       0\n",
       "sqft_lot15          0\n",
       "grade_              0\n",
       "grade_comment       0\n",
       "dtype: int64"
      ]
     },
     "execution_count": 198,
     "metadata": {},
     "output_type": "execute_result"
    }
   ],
   "source": [
    "df.isna().sum()"
   ]
  },
  {
   "cell_type": "code",
   "execution_count": 204,
   "metadata": {},
   "outputs": [],
   "source": [
    "#dropping the nulls in yr-renovated column \n",
    "df.dropna(subset = [\"yr_renovated\"], inplace=True)"
   ]
  },
  {
   "cell_type": "code",
   "execution_count": 211,
   "metadata": {},
   "outputs": [
    {
     "data": {
      "text/plain": [
       "id               0\n",
       "date             0\n",
       "price            0\n",
       "bedrooms         0\n",
       "bathrooms        0\n",
       "sqft_living      0\n",
       "sqft_lot         0\n",
       "floors           0\n",
       "waterfront       0\n",
       "view             0\n",
       "condition        0\n",
       "grade            0\n",
       "sqft_above       0\n",
       "sqft_basement    0\n",
       "yr_built         0\n",
       "yr_renovated     0\n",
       "zipcode          0\n",
       "lat              0\n",
       "long             0\n",
       "sqft_living15    0\n",
       "sqft_lot15       0\n",
       "grade_           0\n",
       "grade_comment    0\n",
       "dtype: int64"
      ]
     },
     "execution_count": 211,
     "metadata": {},
     "output_type": "execute_result"
    }
   ],
   "source": [
    "# confirming for nulls\n",
    "df.isna().sum()"
   ]
  },
  {
   "cell_type": "code",
   "execution_count": 205,
   "metadata": {},
   "outputs": [
    {
     "data": {
      "text/plain": [
       "Average      11494\n",
       "Good          4629\n",
       "Very Good     1414\n",
       "Fair           144\n",
       "Poor            23\n",
       "Name: condition, dtype: int64"
      ]
     },
     "execution_count": 205,
     "metadata": {},
     "output_type": "execute_result"
    }
   ],
   "source": [
    "df['condition'].value_counts()"
   ]
  },
  {
   "cell_type": "code",
   "execution_count": 206,
   "metadata": {},
   "outputs": [
    {
     "data": {
      "text/plain": [
       "0.0       10524\n",
       "?           364\n",
       "600.0       176\n",
       "500.0       170\n",
       "400.0       163\n",
       "          ...  \n",
       "2360.0        1\n",
       "1481.0        1\n",
       "374.0         1\n",
       "1840.0        1\n",
       "274.0         1\n",
       "Name: sqft_basement, Length: 285, dtype: int64"
      ]
     },
     "execution_count": 206,
     "metadata": {},
     "output_type": "execute_result"
    }
   ],
   "source": [
    "df['sqft_basement'].value_counts()"
   ]
  },
  {
   "cell_type": "code",
   "execution_count": 207,
   "metadata": {},
   "outputs": [
    {
     "data": {
      "text/plain": [
       "0           0.0\n",
       "1         400.0\n",
       "3         910.0\n",
       "4           0.0\n",
       "5        1530.0\n",
       "          ...  \n",
       "21592       0.0\n",
       "21593       0.0\n",
       "21594       0.0\n",
       "21595       0.0\n",
       "21596       0.0\n",
       "Name: sqft_basement, Length: 17704, dtype: float64"
      ]
     },
     "execution_count": 207,
     "metadata": {},
     "output_type": "execute_result"
    }
   ],
   "source": [
    "#The sqft_basement has ? as a variable making it an object, fixing that;\n",
    "df.loc[df['sqft_basement'] == '?', 'sqft_basement'] = 0 # convert ? to 0\n",
    "df.sqft_basement = df.sqft_basement.astype(np.float64) # change from string\n",
    "df['sqft_basement']"
   ]
  },
  {
   "cell_type": "code",
   "execution_count": 208,
   "metadata": {},
   "outputs": [
    {
     "data": {
      "text/plain": [
       "0.0       10888\n",
       "600.0       176\n",
       "500.0       170\n",
       "700.0       163\n",
       "400.0       163\n",
       "          ...  \n",
       "518.0         1\n",
       "2220.0        1\n",
       "1525.0        1\n",
       "283.0         1\n",
       "266.0         1\n",
       "Name: sqft_basement, Length: 284, dtype: int64"
      ]
     },
     "execution_count": 208,
     "metadata": {},
     "output_type": "execute_result"
    }
   ],
   "source": [
    "# confirming there's no ?\n",
    "df['sqft_basement'].value_counts()"
   ]
  },
  {
   "cell_type": "code",
   "execution_count": 209,
   "metadata": {},
   "outputs": [
    {
     "data": {
      "text/plain": [
       "Index(['id', 'date', 'price', 'bedrooms', 'bathrooms', 'sqft_living',\n",
       "       'sqft_lot', 'floors', 'waterfront', 'view', 'condition', 'grade',\n",
       "       'sqft_above', 'sqft_basement', 'yr_built', 'yr_renovated', 'zipcode',\n",
       "       'lat', 'long', 'sqft_living15', 'sqft_lot15', 'grade_',\n",
       "       'grade_comment'],\n",
       "      dtype='object')"
      ]
     },
     "execution_count": 209,
     "metadata": {},
     "output_type": "execute_result"
    }
   ],
   "source": [
    "df.columns"
   ]
  },
  {
   "cell_type": "code",
   "execution_count": 210,
   "metadata": {},
   "outputs": [
    {
     "name": "stdout",
     "output_type": "stream",
     "text": [
      "<class 'pandas.core.frame.DataFrame'>\n",
      "Int64Index: 17704 entries, 0 to 21596\n",
      "Data columns (total 23 columns):\n",
      " #   Column         Non-Null Count  Dtype         \n",
      "---  ------         --------------  -----         \n",
      " 0   id             17704 non-null  int64         \n",
      " 1   date           17704 non-null  datetime64[ns]\n",
      " 2   price          17704 non-null  float64       \n",
      " 3   bedrooms       17704 non-null  float64       \n",
      " 4   bathrooms      17704 non-null  float64       \n",
      " 5   sqft_living    17704 non-null  float64       \n",
      " 6   sqft_lot       17704 non-null  float64       \n",
      " 7   floors         17704 non-null  float64       \n",
      " 8   waterfront     17704 non-null  object        \n",
      " 9   view           17704 non-null  object        \n",
      " 10  condition      17704 non-null  object        \n",
      " 11  grade          17704 non-null  object        \n",
      " 12  sqft_above     17704 non-null  float64       \n",
      " 13  sqft_basement  17704 non-null  float64       \n",
      " 14  yr_built       17704 non-null  int64         \n",
      " 15  yr_renovated   17704 non-null  float64       \n",
      " 16  zipcode        17704 non-null  int64         \n",
      " 17  lat            17704 non-null  float64       \n",
      " 18  long           17704 non-null  float64       \n",
      " 19  sqft_living15  17704 non-null  int64         \n",
      " 20  sqft_lot15     17704 non-null  int64         \n",
      " 21  grade_         17704 non-null  float64       \n",
      " 22  grade_comment  17704 non-null  object        \n",
      "dtypes: datetime64[ns](1), float64(12), int64(5), object(5)\n",
      "memory usage: 3.2+ MB\n"
     ]
    }
   ],
   "source": [
    "df.info()"
   ]
  },
  {
   "cell_type": "code",
   "execution_count": null,
   "metadata": {},
   "outputs": [],
   "source": []
  }
 ],
 "metadata": {
  "kernelspec": {
   "display_name": "Python 3",
   "language": "python",
   "name": "python3"
  },
  "language_info": {
   "codemirror_mode": {
    "name": "ipython",
    "version": 3
   },
   "file_extension": ".py",
   "mimetype": "text/x-python",
   "name": "python",
   "nbconvert_exporter": "python",
   "pygments_lexer": "ipython3",
   "version": "3.8.5"
  }
 },
 "nbformat": 4,
 "nbformat_minor": 4
}
