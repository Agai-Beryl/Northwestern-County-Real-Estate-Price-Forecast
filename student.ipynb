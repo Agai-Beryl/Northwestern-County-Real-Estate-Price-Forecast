{
 "cells": [
  {
   "cell_type": "markdown",
   "metadata": {},
   "source": [
    "## Final Project Submission\n",
    "\n",
    "Please fill out:\n",
    "* Student name: \n",
    "* Student pace: self paced / part time / full time\n",
    "* Scheduled project review date/time: \n",
    "* Instructor name: \n",
    "* Blog post URL:\n"
   ]
  },
  {
   "cell_type": "markdown",
   "metadata": {},
   "source": [
    "# NORTHWESTERN COUNTY REAL ESTATE PROJECT"
   ]
  },
  {
   "cell_type": "markdown",
   "metadata": {},
   "source": [
    "# Business Understanding."
   ]
  },
  {
   "cell_type": "markdown",
   "metadata": {},
   "source": [
    "# 1.1 Overview"
   ]
  },
  {
   "cell_type": "markdown",
   "metadata": {},
   "source": [
    "As a major sector of the economy, the real estate market is highly dependent on several factors to achieve success, mainly precise house price forecasts. A real estate agency in King County, Washington state is looking for help in determining the primary factors that affect property values within the region. This project uses data from the King County House Sales dataset, which contains past real estate sales data that includes information on a variety of properties such as the previous sale price, the grade of the home and the year of construction. Some of the challenges that affect the real estate market are economic downturns like decrease in demand of property or increase in housing prices causing challenges of affordability and insufficient data that makes it difficult to make a recommendation system. A solution would be to create a combination of several multiple linear regression models in order to identify trends in the data. The project's objective is to create a thorough advice system for the agency that will help homeowners understand how house renovations may affect the estimated worth of their properties. "
   ]
  },
  {
   "cell_type": "markdown",
   "metadata": {},
   "source": [
    "# 1.2 Stakeholders"
   ]
  },
  {
   "cell_type": "markdown",
   "metadata": {},
   "source": [
    "The stakeholders in this analysis are: the real estate agency, real estate developers, potential investors, potential customers and home owners"
   ]
  },
  {
   "cell_type": "markdown",
   "metadata": {},
   "source": [
    "# 1.3 Business Problem"
   ]
  },
  {
   "cell_type": "markdown",
   "metadata": {},
   "source": [
    "A real estate agency from King County tasked us to analyze how different features affect prices of homes since as stakeholders, they don't have a reliable system that offers data driven insights and predictions to these home prices. Based on the particular characteristics of the homeowner's property, we will use data analytics and predictive modeling through simple and multiple linear regression approaches to; help homeowners accurately assess the value of their own houses, investors find potentially discounted properties, and real estate agents will be able to counsel their customers on pricing approaches by predicting home prices with ease."
   ]
  },
  {
   "cell_type": "markdown",
   "metadata": {},
   "source": [
    "# 1.4 Objectives"
   ]
  },
  {
   "cell_type": "markdown",
   "metadata": {},
   "source": [
    "The key objectives for this analysis are as follows;\n",
    "1.\tPredicting home prices: To create a predictive model that estimates increase in market value of home based on renovation factors.\n",
    "\n",
    "2.\tIdentifying the most important features: To review which renovation variables have the highest impact on increasing estimated value of a home.\n",
    "- How much is the likely increase in the sale price by adding an additional floor?\n",
    "- How much is the likely increase in the sale price by adding an extension to the living space in the home?\n",
    "- How much is the likely increase in the sale price by adding an additional bedroom?\n",
    "\n",
    "3.\tMonitoring real estate market trends: To learn more about the regions with the highest and lowest average sale price as well as the most in-demand property types.\n",
    "\n"
   ]
  },
  {
   "cell_type": "markdown",
   "metadata": {},
   "source": [
    "# DATA UNDERSTANDING"
   ]
  },
  {
   "cell_type": "markdown",
   "metadata": {},
   "source": [
    "The research retrieves information from King County House Sales dataset which contains the kc_house_data.csv file used to forecast the sales price of homes in King County.\n",
    "\n",
    "`Description`: It comprises of 21,597 housing observations and 20 house features along with a column indicating the home id. The data covers homes sold between May 2014 and May 2015"
   ]
  },
  {
   "cell_type": "markdown",
   "metadata": {},
   "source": [
    "The columns in the dataset are:\n",
    "\n",
    "Numerical Columns (15)\n",
    "\n",
    "- date - Date house was sold\n",
    "\n",
    "- price - Sale price (prediction target)\n",
    "\n",
    "- bedrooms - Number of bedrooms\n",
    "\n",
    "- bathrooms - Number of bathrooms\n",
    "\n",
    "- sqft_living - Square footage of living space in the home\n",
    "\n",
    "- sqft_lot - Square footage of the lot\n",
    "\n",
    "- floors - Number of floors (levels) in house\n",
    "\n",
    "- sqft_above - Square footage of house apart from basement\n",
    "\n",
    "- sqft_basement - Square footage of the basement\n",
    "\n",
    "- yr_built - Year when house was built\n",
    "\n",
    "- yr_renovated - Year when house was renovated\n",
    "\n",
    "- lat - Latitude coordinate\n",
    "\n",
    "- long - Longitude coordinate\n",
    "\n",
    "- sqft_living15 - The square footage of interior housing living space for the nearest 15 neighbors\n",
    "\n",
    "- sqft_lot15 - The square footage of the land lots of the nearest 15 neighbors\n",
    "\n",
    "Categorical Columns (6)\n",
    "- id - Unique ID for each home sold\n",
    "\n",
    "- waterfront - Whether the house has a view to a waterfront\n",
    "\n",
    "- view - how good the view of the property was\n",
    "\n",
    "- condition - the condition of the house\n",
    "\n",
    "- grade - overall grade of the house. Related to the construction and design of the house \n",
    "\n",
    "- zipcode - What zip code area the house is in\n"
   ]
  },
  {
   "cell_type": "markdown",
   "metadata": {},
   "source": [
    "`Key variables:`\n",
    "price, bedrooms, sqft living, floors\n"
   ]
  },
  {
   "cell_type": "markdown",
   "metadata": {},
   "source": [
    "`Target Variable`: The `\"price\"` of the properties is the project's target variable. This indicates that other independent variables, such as the attributes of the property (square footage, number of bedrooms, location, etc.), are what predict or explain the outcome or goal variable. The price of a property will be the variable being modeled or projected in statistical modeling and analysis based on the values of other variables.\n",
    "\n",
    "These variables will be used to answer the data questions and derive actionable insights to the real estate agency on how to make predictions on price based on features affecting sales\n"
   ]
  },
  {
   "cell_type": "markdown",
   "metadata": {},
   "source": [
    "## Load data\n",
    "\n",
    "### Library Imports\n",
    "Begin with importing all the neccessary libraries and packages that will be useful during this project"
   ]
  },
  {
   "cell_type": "code",
   "execution_count": 2,
   "metadata": {},
   "outputs": [],
   "source": [
    "# First we import packages to be used.\n",
    "import markdown\n",
    "import pandas as pd\n",
    "import numpy as np\n",
    "import csv\n",
    "import statsmodels.api as sm\n",
    "from statsmodels.formula.api import ols\n",
    "import matplotlib.pyplot as plt\n",
    "from matplotlib.ticker import StrMethodFormatter\n",
    "import seaborn as sns\n",
    "import scipy.stats as stats\n",
    "from sklearn.linear_model import LinearRegression\n",
    "from sklearn.metrics import mean_absolute_error\n",
    "from sklearn.dummy import DummyRegressor\n",
    "from sklearn.model_selection import train_test_split\n",
    "from sklearn.model_selection import cross_val_score\n",
    "from sklearn import linear_model\n",
    "from sklearn.model_selection import KFold\n",
    "import scipy.stats as stats\n",
    "from pandas.api.types import is_numeric_dtype\n",
    "from sklearn.metrics import mean_squared_error\n",
    "from sklearn.impute import SimpleImputer\n",
    "\n"
   ]
  },
  {
   "cell_type": "markdown",
   "metadata": {},
   "source": [
    "### Data cleaning\n",
    "Functions are used to promotes modularity, reusability, abstraction, encapsulation and readability, all of which contribute to writing cleaner, more maintainable, and efficient codes. \n",
    ">We created a function that: \n",
    ">1. loads the data from the CSV file.\n",
    ">2. Converts the date feature from object datatype to datetime format.  \n",
    ">3. Splits the grade column into two columns to create two features: grade_ and grade_comments.\n",
    "\n",
    "**N/B:** The split functions splits the grade feature to form two features one interger datatype and the other string datatype which gives comment on the grade."
   ]
  },
  {
   "cell_type": "code",
   "execution_count": 3,
   "metadata": {},
   "outputs": [],
   "source": [
    "def load_data(filepath):\n",
    "    # Read CSV file\n",
    "    data = pd.read_csv(filepath)\n",
    "    \n",
    "    # Convert 'date' column to datetime format\n",
    "    data[\"date\"] = pd.to_datetime(data['date'])\n",
    "    \n",
    "    # Split 'grade' column into 'grade_' and 'grade_comment'\n",
    "    data[[\"grade_\", \"grade_comment\"]] = (\n",
    "        data[\"grade\"].str.split(\" \", n=1, expand=True)\n",
    "    )\n",
    "\n",
    "    return data"
   ]
  },
  {
   "cell_type": "code",
   "execution_count": 4,
   "metadata": {},
   "outputs": [],
   "source": [
    "df = load_data(\"data/kc_house_data.csv\")"
   ]
  },
  {
   "cell_type": "code",
   "execution_count": 5,
   "metadata": {},
   "outputs": [
    {
     "data": {
      "text/html": [
       "<div>\n",
       "<style scoped>\n",
       "    .dataframe tbody tr th:only-of-type {\n",
       "        vertical-align: middle;\n",
       "    }\n",
       "\n",
       "    .dataframe tbody tr th {\n",
       "        vertical-align: top;\n",
       "    }\n",
       "\n",
       "    .dataframe thead th {\n",
       "        text-align: right;\n",
       "    }\n",
       "</style>\n",
       "<table border=\"1\" class=\"dataframe\">\n",
       "  <thead>\n",
       "    <tr style=\"text-align: right;\">\n",
       "      <th></th>\n",
       "      <th>id</th>\n",
       "      <th>date</th>\n",
       "      <th>price</th>\n",
       "      <th>bedrooms</th>\n",
       "      <th>bathrooms</th>\n",
       "      <th>sqft_living</th>\n",
       "      <th>sqft_lot</th>\n",
       "      <th>floors</th>\n",
       "      <th>waterfront</th>\n",
       "      <th>view</th>\n",
       "      <th>...</th>\n",
       "      <th>sqft_basement</th>\n",
       "      <th>yr_built</th>\n",
       "      <th>yr_renovated</th>\n",
       "      <th>zipcode</th>\n",
       "      <th>lat</th>\n",
       "      <th>long</th>\n",
       "      <th>sqft_living15</th>\n",
       "      <th>sqft_lot15</th>\n",
       "      <th>grade_</th>\n",
       "      <th>grade_comment</th>\n",
       "    </tr>\n",
       "  </thead>\n",
       "  <tbody>\n",
       "    <tr>\n",
       "      <th>0</th>\n",
       "      <td>7129300520</td>\n",
       "      <td>2014-10-13</td>\n",
       "      <td>221900.0</td>\n",
       "      <td>3</td>\n",
       "      <td>1.00</td>\n",
       "      <td>1180</td>\n",
       "      <td>5650</td>\n",
       "      <td>1.0</td>\n",
       "      <td>NaN</td>\n",
       "      <td>NONE</td>\n",
       "      <td>...</td>\n",
       "      <td>0.0</td>\n",
       "      <td>1955</td>\n",
       "      <td>0.0</td>\n",
       "      <td>98178</td>\n",
       "      <td>47.5112</td>\n",
       "      <td>-122.257</td>\n",
       "      <td>1340</td>\n",
       "      <td>5650</td>\n",
       "      <td>7</td>\n",
       "      <td>Average</td>\n",
       "    </tr>\n",
       "    <tr>\n",
       "      <th>1</th>\n",
       "      <td>6414100192</td>\n",
       "      <td>2014-12-09</td>\n",
       "      <td>538000.0</td>\n",
       "      <td>3</td>\n",
       "      <td>2.25</td>\n",
       "      <td>2570</td>\n",
       "      <td>7242</td>\n",
       "      <td>2.0</td>\n",
       "      <td>NO</td>\n",
       "      <td>NONE</td>\n",
       "      <td>...</td>\n",
       "      <td>400.0</td>\n",
       "      <td>1951</td>\n",
       "      <td>1991.0</td>\n",
       "      <td>98125</td>\n",
       "      <td>47.7210</td>\n",
       "      <td>-122.319</td>\n",
       "      <td>1690</td>\n",
       "      <td>7639</td>\n",
       "      <td>7</td>\n",
       "      <td>Average</td>\n",
       "    </tr>\n",
       "    <tr>\n",
       "      <th>2</th>\n",
       "      <td>5631500400</td>\n",
       "      <td>2015-02-25</td>\n",
       "      <td>180000.0</td>\n",
       "      <td>2</td>\n",
       "      <td>1.00</td>\n",
       "      <td>770</td>\n",
       "      <td>10000</td>\n",
       "      <td>1.0</td>\n",
       "      <td>NO</td>\n",
       "      <td>NONE</td>\n",
       "      <td>...</td>\n",
       "      <td>0.0</td>\n",
       "      <td>1933</td>\n",
       "      <td>NaN</td>\n",
       "      <td>98028</td>\n",
       "      <td>47.7379</td>\n",
       "      <td>-122.233</td>\n",
       "      <td>2720</td>\n",
       "      <td>8062</td>\n",
       "      <td>6</td>\n",
       "      <td>Low Average</td>\n",
       "    </tr>\n",
       "    <tr>\n",
       "      <th>3</th>\n",
       "      <td>2487200875</td>\n",
       "      <td>2014-12-09</td>\n",
       "      <td>604000.0</td>\n",
       "      <td>4</td>\n",
       "      <td>3.00</td>\n",
       "      <td>1960</td>\n",
       "      <td>5000</td>\n",
       "      <td>1.0</td>\n",
       "      <td>NO</td>\n",
       "      <td>NONE</td>\n",
       "      <td>...</td>\n",
       "      <td>910.0</td>\n",
       "      <td>1965</td>\n",
       "      <td>0.0</td>\n",
       "      <td>98136</td>\n",
       "      <td>47.5208</td>\n",
       "      <td>-122.393</td>\n",
       "      <td>1360</td>\n",
       "      <td>5000</td>\n",
       "      <td>7</td>\n",
       "      <td>Average</td>\n",
       "    </tr>\n",
       "    <tr>\n",
       "      <th>4</th>\n",
       "      <td>1954400510</td>\n",
       "      <td>2015-02-18</td>\n",
       "      <td>510000.0</td>\n",
       "      <td>3</td>\n",
       "      <td>2.00</td>\n",
       "      <td>1680</td>\n",
       "      <td>8080</td>\n",
       "      <td>1.0</td>\n",
       "      <td>NO</td>\n",
       "      <td>NONE</td>\n",
       "      <td>...</td>\n",
       "      <td>0.0</td>\n",
       "      <td>1987</td>\n",
       "      <td>0.0</td>\n",
       "      <td>98074</td>\n",
       "      <td>47.6168</td>\n",
       "      <td>-122.045</td>\n",
       "      <td>1800</td>\n",
       "      <td>7503</td>\n",
       "      <td>8</td>\n",
       "      <td>Good</td>\n",
       "    </tr>\n",
       "  </tbody>\n",
       "</table>\n",
       "<p>5 rows × 23 columns</p>\n",
       "</div>"
      ],
      "text/plain": [
       "           id       date     price  bedrooms  bathrooms  sqft_living  \\\n",
       "0  7129300520 2014-10-13  221900.0         3       1.00         1180   \n",
       "1  6414100192 2014-12-09  538000.0         3       2.25         2570   \n",
       "2  5631500400 2015-02-25  180000.0         2       1.00          770   \n",
       "3  2487200875 2014-12-09  604000.0         4       3.00         1960   \n",
       "4  1954400510 2015-02-18  510000.0         3       2.00         1680   \n",
       "\n",
       "   sqft_lot  floors waterfront  view  ... sqft_basement yr_built  \\\n",
       "0      5650     1.0        NaN  NONE  ...           0.0     1955   \n",
       "1      7242     2.0         NO  NONE  ...         400.0     1951   \n",
       "2     10000     1.0         NO  NONE  ...           0.0     1933   \n",
       "3      5000     1.0         NO  NONE  ...         910.0     1965   \n",
       "4      8080     1.0         NO  NONE  ...           0.0     1987   \n",
       "\n",
       "   yr_renovated zipcode      lat     long  sqft_living15  sqft_lot15  grade_  \\\n",
       "0           0.0   98178  47.5112 -122.257           1340        5650       7   \n",
       "1        1991.0   98125  47.7210 -122.319           1690        7639       7   \n",
       "2           NaN   98028  47.7379 -122.233           2720        8062       6   \n",
       "3           0.0   98136  47.5208 -122.393           1360        5000       7   \n",
       "4           0.0   98074  47.6168 -122.045           1800        7503       8   \n",
       "\n",
       "   grade_comment  \n",
       "0        Average  \n",
       "1        Average  \n",
       "2    Low Average  \n",
       "3        Average  \n",
       "4           Good  \n",
       "\n",
       "[5 rows x 23 columns]"
      ]
     },
     "execution_count": 5,
     "metadata": {},
     "output_type": "execute_result"
    }
   ],
   "source": [
    "df.head()"
   ]
  },
  {
   "cell_type": "markdown",
   "metadata": {},
   "source": [
    "From the data loaded we can see the grade feature split to two features .This will be useful when performing statistical tests later on during our analysis,where we require numerical data compaired to categorical data. Also,the sqft_living, sqft_lot, sqft_above, sqft_living15, and sqft_lot15 columns represent continuous variables while the bedrooms, bathrooms, and floors columns have integer values."
   ]
  },
  {
   "cell_type": "markdown",
   "metadata": {},
   "source": [
    "We then use the pandas method $ df.info() $ to  retrieve concise information about the DataFrame, such as the number of non-null values in each column, the data type of each column, and memory usage."
   ]
  },
  {
   "cell_type": "code",
   "execution_count": 6,
   "metadata": {},
   "outputs": [
    {
     "name": "stdout",
     "output_type": "stream",
     "text": [
      "<class 'pandas.core.frame.DataFrame'>\n",
      "RangeIndex: 21597 entries, 0 to 21596\n",
      "Data columns (total 23 columns):\n",
      " #   Column         Non-Null Count  Dtype         \n",
      "---  ------         --------------  -----         \n",
      " 0   id             21597 non-null  int64         \n",
      " 1   date           21597 non-null  datetime64[ns]\n",
      " 2   price          21597 non-null  float64       \n",
      " 3   bedrooms       21597 non-null  int64         \n",
      " 4   bathrooms      21597 non-null  float64       \n",
      " 5   sqft_living    21597 non-null  int64         \n",
      " 6   sqft_lot       21597 non-null  int64         \n",
      " 7   floors         21597 non-null  float64       \n",
      " 8   waterfront     19221 non-null  object        \n",
      " 9   view           21534 non-null  object        \n",
      " 10  condition      21597 non-null  object        \n",
      " 11  grade          21597 non-null  object        \n",
      " 12  sqft_above     21597 non-null  int64         \n",
      " 13  sqft_basement  21597 non-null  object        \n",
      " 14  yr_built       21597 non-null  int64         \n",
      " 15  yr_renovated   17755 non-null  float64       \n",
      " 16  zipcode        21597 non-null  int64         \n",
      " 17  lat            21597 non-null  float64       \n",
      " 18  long           21597 non-null  float64       \n",
      " 19  sqft_living15  21597 non-null  int64         \n",
      " 20  sqft_lot15     21597 non-null  int64         \n",
      " 21  grade_         21597 non-null  object        \n",
      " 22  grade_comment  21597 non-null  object        \n",
      "dtypes: datetime64[ns](1), float64(6), int64(9), object(7)\n",
      "memory usage: 3.8+ MB\n"
     ]
    }
   ],
   "source": [
    "df.info()"
   ]
  },
  {
   "cell_type": "markdown",
   "metadata": {},
   "source": [
    "Notice that ,the datatype for the date feature is in date time format.Converting dates to datetime format enhances the consistency, flexibility, and functionality of your data, making it easier to work with and analyze."
   ]
  },
  {
   "cell_type": "markdown",
   "metadata": {},
   "source": [
    "From the information above we are able to identify the numerical data. Select the numerical data and use the $.describe()$  method to  quickly understanding the distribution and summary statistics of numerical data in your DataFrame, which can be helpful during data exploration and analysis.\n"
   ]
  },
  {
   "cell_type": "code",
   "execution_count": 7,
   "metadata": {},
   "outputs": [
    {
     "data": {
      "text/html": [
       "<div>\n",
       "<style scoped>\n",
       "    .dataframe tbody tr th:only-of-type {\n",
       "        vertical-align: middle;\n",
       "    }\n",
       "\n",
       "    .dataframe tbody tr th {\n",
       "        vertical-align: top;\n",
       "    }\n",
       "\n",
       "    .dataframe thead th {\n",
       "        text-align: right;\n",
       "    }\n",
       "</style>\n",
       "<table border=\"1\" class=\"dataframe\">\n",
       "  <thead>\n",
       "    <tr style=\"text-align: right;\">\n",
       "      <th></th>\n",
       "      <th>bedrooms</th>\n",
       "      <th>bathrooms</th>\n",
       "      <th>sqft_living</th>\n",
       "      <th>sqft_lot</th>\n",
       "      <th>floors</th>\n",
       "      <th>sqft_above</th>\n",
       "      <th>sqft_living15</th>\n",
       "      <th>sqft_lot15</th>\n",
       "    </tr>\n",
       "  </thead>\n",
       "  <tbody>\n",
       "    <tr>\n",
       "      <th>count</th>\n",
       "      <td>21597.000000</td>\n",
       "      <td>21597.000000</td>\n",
       "      <td>21597.000000</td>\n",
       "      <td>2.159700e+04</td>\n",
       "      <td>21597.000000</td>\n",
       "      <td>21597.000000</td>\n",
       "      <td>21597.000000</td>\n",
       "      <td>21597.000000</td>\n",
       "    </tr>\n",
       "    <tr>\n",
       "      <th>mean</th>\n",
       "      <td>3.373200</td>\n",
       "      <td>2.115826</td>\n",
       "      <td>2080.321850</td>\n",
       "      <td>1.509941e+04</td>\n",
       "      <td>1.494096</td>\n",
       "      <td>1788.596842</td>\n",
       "      <td>1986.620318</td>\n",
       "      <td>12758.283512</td>\n",
       "    </tr>\n",
       "    <tr>\n",
       "      <th>std</th>\n",
       "      <td>0.926299</td>\n",
       "      <td>0.768984</td>\n",
       "      <td>918.106125</td>\n",
       "      <td>4.141264e+04</td>\n",
       "      <td>0.539683</td>\n",
       "      <td>827.759761</td>\n",
       "      <td>685.230472</td>\n",
       "      <td>27274.441950</td>\n",
       "    </tr>\n",
       "    <tr>\n",
       "      <th>min</th>\n",
       "      <td>1.000000</td>\n",
       "      <td>0.500000</td>\n",
       "      <td>370.000000</td>\n",
       "      <td>5.200000e+02</td>\n",
       "      <td>1.000000</td>\n",
       "      <td>370.000000</td>\n",
       "      <td>399.000000</td>\n",
       "      <td>651.000000</td>\n",
       "    </tr>\n",
       "    <tr>\n",
       "      <th>25%</th>\n",
       "      <td>3.000000</td>\n",
       "      <td>1.750000</td>\n",
       "      <td>1430.000000</td>\n",
       "      <td>5.040000e+03</td>\n",
       "      <td>1.000000</td>\n",
       "      <td>1190.000000</td>\n",
       "      <td>1490.000000</td>\n",
       "      <td>5100.000000</td>\n",
       "    </tr>\n",
       "    <tr>\n",
       "      <th>50%</th>\n",
       "      <td>3.000000</td>\n",
       "      <td>2.250000</td>\n",
       "      <td>1910.000000</td>\n",
       "      <td>7.618000e+03</td>\n",
       "      <td>1.500000</td>\n",
       "      <td>1560.000000</td>\n",
       "      <td>1840.000000</td>\n",
       "      <td>7620.000000</td>\n",
       "    </tr>\n",
       "    <tr>\n",
       "      <th>75%</th>\n",
       "      <td>4.000000</td>\n",
       "      <td>2.500000</td>\n",
       "      <td>2550.000000</td>\n",
       "      <td>1.068500e+04</td>\n",
       "      <td>2.000000</td>\n",
       "      <td>2210.000000</td>\n",
       "      <td>2360.000000</td>\n",
       "      <td>10083.000000</td>\n",
       "    </tr>\n",
       "    <tr>\n",
       "      <th>max</th>\n",
       "      <td>33.000000</td>\n",
       "      <td>8.000000</td>\n",
       "      <td>13540.000000</td>\n",
       "      <td>1.651359e+06</td>\n",
       "      <td>3.500000</td>\n",
       "      <td>9410.000000</td>\n",
       "      <td>6210.000000</td>\n",
       "      <td>871200.000000</td>\n",
       "    </tr>\n",
       "  </tbody>\n",
       "</table>\n",
       "</div>"
      ],
      "text/plain": [
       "           bedrooms     bathrooms   sqft_living      sqft_lot        floors  \\\n",
       "count  21597.000000  21597.000000  21597.000000  2.159700e+04  21597.000000   \n",
       "mean       3.373200      2.115826   2080.321850  1.509941e+04      1.494096   \n",
       "std        0.926299      0.768984    918.106125  4.141264e+04      0.539683   \n",
       "min        1.000000      0.500000    370.000000  5.200000e+02      1.000000   \n",
       "25%        3.000000      1.750000   1430.000000  5.040000e+03      1.000000   \n",
       "50%        3.000000      2.250000   1910.000000  7.618000e+03      1.500000   \n",
       "75%        4.000000      2.500000   2550.000000  1.068500e+04      2.000000   \n",
       "max       33.000000      8.000000  13540.000000  1.651359e+06      3.500000   \n",
       "\n",
       "         sqft_above  sqft_living15     sqft_lot15  \n",
       "count  21597.000000   21597.000000   21597.000000  \n",
       "mean    1788.596842    1986.620318   12758.283512  \n",
       "std      827.759761     685.230472   27274.441950  \n",
       "min      370.000000     399.000000     651.000000  \n",
       "25%     1190.000000    1490.000000    5100.000000  \n",
       "50%     1560.000000    1840.000000    7620.000000  \n",
       "75%     2210.000000    2360.000000   10083.000000  \n",
       "max     9410.000000    6210.000000  871200.000000  "
      ]
     },
     "execution_count": 7,
     "metadata": {},
     "output_type": "execute_result"
    }
   ],
   "source": [
    "df[[\"bedrooms\",\"bathrooms\",\"sqft_living\",\"sqft_lot\",\"floors\",\"sqft_above\",\"sqft_basement\",\"sqft_living15\",\"sqft_lot15\"]].describe()"
   ]
  },
  {
   "cell_type": "markdown",
   "metadata": {},
   "source": [
    "From simply looking at this out come you can come up with a few observations:\n",
    "* Some columns, like bedrooms and bathrooms, have a maximum value that seems unusually high compared to the other values in the dataset, suggesting potential **outliers**\n",
    "\n",
    "These observations provide insights into the nature of the numerical variables in the dataset and can guide further analysis, such as identifying and handling outliers, understanding the relationships between variables, and selecting appropriate modeling techniques. "
   ]
  },
  {
   "cell_type": "markdown",
   "metadata": {},
   "source": [
    "To visualize the outliers we use boxplots. Below is a function boxplot_outliers() which is designed to visualize potential outliers in a DataFrame using box plots.The function is defined with two parameters: df (the DataFrame containing the data) and cols (a list of column names to visualize)."
   ]
  },
  {
   "cell_type": "code",
   "execution_count": 8,
   "metadata": {},
   "outputs": [
    {
     "data": {
      "image/png": "[encoded data removed]",
      "text/plain": [
       "<Figure size 2000x1000 with 8 Axes>"
      ]
     },
     "metadata": {},
     "output_type": "display_data"
    }
   ],
   "source": [
    "# function to visualize outliers \n",
    "\n",
    "def boxplot_outliers(df, cols):\n",
    "    fig, axes = plt.subplots(2, 4, figsize=(20,10))\n",
    "    axes = axes.ravel()\n",
    "    sns.set(font_scale=2.0)\n",
    "    for i, col in enumerate(cols):\n",
    "\n",
    "        # convert the x-axis variable to a numeric data type\n",
    "        \n",
    "        df[col] = df[col].astype(float)\n",
    "        sns.boxplot(x=df[col], ax=axes[i])\n",
    "        \n",
    "        axes[i].set_title(col.title())\n",
    "    plt.tight_layout()\n",
    "\n",
    "# specify the columns to plot\n",
    "\n",
    "cols = ['price', 'sqft_above', 'bathrooms', 'bedrooms', 'sqft_lot', 'sqft_living', 'grade_', 'floors']\n",
    "\n",
    "# call the plot_boxplots function\n",
    "\n",
    "boxplot_outliers(df, cols)"
   ]
  },
  {
   "cell_type": "markdown",
   "metadata": {},
   "source": [
    "Removing outliers from a dataset is a decision that depends on the context of your analysis and the specific goals of your project.It is imporntant to remove outliers in order to: preserving data integrity,improving model performance and enhancing interpretability of data. This function remove_outliers is designed to remove outliers from a given column in a DataFrame using the Z-score method. It is defined with two parameters: column (the column containing the data) and x (the threshold value for removing outliers).\n",
    ">The selection of different z-score thresholds for each variable reflects considerations of the data's characteristics and analytical requirements. A z-score threshold of 4 is applied to price and bathrooms, as these variables may exhibit extreme values due to the nature of the data, such as high-end properties or properties with numerous bathrooms. Sqft_above and sqft_lot, representing physical property attributes, use a z-score threshold of 3 to capture outliers within a reasonable range without being overly aggressive. Bedrooms, being a discrete variable with a smaller range, employ a z-score threshold of 2 to detect moderately deviating outliers. These varying thresholds balance the detection of outliers with data integrity preservation, ensuring an effective approach tailored to each variable's variability and expected value range."
   ]
  },
  {
   "cell_type": "code",
   "execution_count": 9,
   "metadata": {},
   "outputs": [
    {
     "data": {
      "image/png": "[encoded data removed]",
      "text/plain": [
       "<Figure size 2000x1000 with 8 Axes>"
      ]
     },
     "metadata": {},
     "output_type": "display_data"
    }
   ],
   "source": [
    "# function to remove outliers\n",
    "\n",
    "def remove_outliers(column,x):\n",
    "    new_column = column[(np.abs(stats.zscore(column))<x)]\n",
    "    return new_column\n",
    "# remove outliers for price\n",
    "price = remove_outliers(df.price, 4)\n",
    "\n",
    "# remove outliers for sqft_above\n",
    "sqft_above_ground = remove_outliers(df.sqft_above, 3)\n",
    "\n",
    "# remove outliers for bathrooms\n",
    "bathrooms = remove_outliers(df.bathrooms, 4)\n",
    "\n",
    "# remove outliers for bedrooms\n",
    "bedrooms = remove_outliers(df.bedrooms, 2)\n",
    "\n",
    "# remove outliers for sqft_lot\n",
    "\n",
    "sqft_lot = remove_outliers(df.sqft_lot, 3)\n",
    "\n",
    "# remove outliers for sqft_living\n",
    "sqft_living = remove_outliers(df.sqft_living, 4)\n",
    "gradee = remove_outliers(df.grade_, 1.5)\n",
    "\n",
    "# combine all columns into a single dataframe\n",
    "columns = pd.concat([price, sqft_above_ground, bathrooms, bedrooms, sqft_lot, sqft_living, gradee], axis=1)\n",
    "# cols = [price, sqft_above_ground, bathrooms, bedrooms, sqft_lot, sqft_living, grade_]\n",
    "# plot box plots for all columns\n",
    "boxplot_outliers(columns,columns.columns[:6])\n"
   ]
  },
  {
   "cell_type": "markdown",
   "metadata": {},
   "source": [
    "We then check for missing values in our dataset.This is done usin the  .𝑖𝑠𝑛𝑎()\n",
    "  pandas method which returns a DataFrame of the same shape as the original DataFrame, where each element is True if the corresponding element in the original DataFrame is NaN, and False if otherwise.This is done to ensure data inegrity , Model Performance as many machine learning algorithms cannot handle missing values, data quality, bias reduction and for better data interpretability."
   ]
  },
  {
   "cell_type": "code",
   "execution_count": 10,
   "metadata": {},
   "outputs": [
    {
     "data": {
      "text/plain": [
       "id                  0\n",
       "date                0\n",
       "price               0\n",
       "bedrooms            0\n",
       "bathrooms           0\n",
       "sqft_living         0\n",
       "sqft_lot            0\n",
       "floors              0\n",
       "waterfront       2376\n",
       "view               63\n",
       "condition           0\n",
       "grade               0\n",
       "sqft_above          0\n",
       "sqft_basement       0\n",
       "yr_built            0\n",
       "yr_renovated     3842\n",
       "zipcode             0\n",
       "lat                 0\n",
       "long                0\n",
       "sqft_living15       0\n",
       "sqft_lot15          0\n",
       "grade_              0\n",
       "grade_comment       0\n",
       "dtype: int64"
      ]
     },
     "execution_count": 10,
     "metadata": {},
     "output_type": "execute_result"
    }
   ],
   "source": [
    "#checking for missing values\n",
    "\n",
    "df.isna().sum()"
   ]
  },
  {
   "cell_type": "code",
   "execution_count": 11,
   "metadata": {},
   "outputs": [
    {
     "ename": "NameError",
     "evalue": "name 'msno' is not defined",
     "output_type": "error",
     "traceback": [
      "\u001b[1;31m---------------------------------------------------------------------------\u001b[0m",
      "\u001b[1;31mNameError\u001b[0m                                 Traceback (most recent call last)",
      "Cell \u001b[1;32mIn[11], line 3\u001b[0m\n\u001b[0;32m      1\u001b[0m \u001b[38;5;66;03m# Visualize missing values with missingno library\u001b[39;00m\n\u001b[0;32m      2\u001b[0m plt\u001b[38;5;241m.\u001b[39mfigure(figsize\u001b[38;5;241m=\u001b[39m(\u001b[38;5;241m10\u001b[39m, \u001b[38;5;241m5\u001b[39m))\n\u001b[1;32m----> 3\u001b[0m \u001b[43mmsno\u001b[49m\u001b[38;5;241m.\u001b[39mbar(df, color\u001b[38;5;241m=\u001b[39m\u001b[38;5;124m'\u001b[39m\u001b[38;5;124mskyblue\u001b[39m\u001b[38;5;124m'\u001b[39m, figsize\u001b[38;5;241m=\u001b[39m(\u001b[38;5;241m10\u001b[39m, \u001b[38;5;241m5\u001b[39m), fontsize\u001b[38;5;241m=\u001b[39m\u001b[38;5;241m8\u001b[39m)\n\u001b[0;32m      4\u001b[0m plt\u001b[38;5;241m.\u001b[39mtitle(\u001b[38;5;124m'\u001b[39m\u001b[38;5;124mMissing Values Within Dataset\u001b[39m\u001b[38;5;124m'\u001b[39m, fontsize\u001b[38;5;241m=\u001b[39m\u001b[38;5;241m14\u001b[39m, fontweight\u001b[38;5;241m=\u001b[39m\u001b[38;5;124m'\u001b[39m\u001b[38;5;124mbold\u001b[39m\u001b[38;5;124m'\u001b[39m)\n\u001b[0;32m      5\u001b[0m plt\u001b[38;5;241m.\u001b[39mxlabel(\u001b[38;5;124m'\u001b[39m\u001b[38;5;124mVariables\u001b[39m\u001b[38;5;124m'\u001b[39m, fontsize\u001b[38;5;241m=\u001b[39m\u001b[38;5;241m12\u001b[39m)\n",
      "\u001b[1;31mNameError\u001b[0m: name 'msno' is not defined"
     ]
    },
    {
     "data": {
      "text/plain": [
       "<Figure size 1000x500 with 0 Axes>"
      ]
     },
     "metadata": {},
     "output_type": "display_data"
    }
   ],
   "source": [
    "# Visualize missing values with missingno library\n",
    "plt.figure(figsize=(10, 5))\n",
    "msno.bar(df, color='skyblue', figsize=(10, 5), fontsize=8)\n",
    "plt.title('Missing Values Within Dataset', fontsize=14, fontweight='bold')\n",
    "plt.xlabel('Variables', fontsize=12)\n",
    "plt.ylabel('Percentage of Missing Values', fontsize=12)\n",
    "plt.xticks(rotation=45, ha='right', fontsize=10)\n",
    "plt.yticks(fontsize=10)\n",
    "plt.tight_layout()  # Adjust layout to prevent overlapping labels\n",
    "plt.show()"
   ]
  },
  {
   "cell_type": "markdown",
   "metadata": {},
   "source": [
    "It  is evident that three features have null values i.e waterfront,view and  yr_renovated. When considerinf if we should drop or replace the null values we look at **impact on Analysis** and **amount of missing Data**. If only a small percentage of values are missing, imputation methods like mean, median, or mode can be suitable but if a large portion of the data is missing, dropping the column or row may be more appropriate to avoid biasing the analysis."
   ]
  },
  {
   "cell_type": "code",
   "execution_count": null,
   "metadata": {},
   "outputs": [],
   "source": [
    "# Checking for duplicates\n",
    "df.duplicated().value_counts()"
   ]
  },
  {
   "cell_type": "code",
   "execution_count": null,
   "metadata": {},
   "outputs": [],
   "source": [
    "df.shape"
   ]
  },
  {
   "cell_type": "code",
   "execution_count": null,
   "metadata": {},
   "outputs": [],
   "source": [
    "#Categoricals\n",
    "#waterfront and view also have nulls\n",
    "#grade and condition dont\n",
    "df['grade'].value_counts()\n",
    "print(df['grade'].unique())"
   ]
  },
  {
   "cell_type": "code",
   "execution_count": null,
   "metadata": {},
   "outputs": [],
   "source": [
    "#cheking the Waterfront variable\n",
    "df['waterfront'].value_counts()"
   ]
  },
  {
   "cell_type": "code",
   "execution_count": null,
   "metadata": {},
   "outputs": [],
   "source": [
    "# replacing the null values in waterfront with UNVERIFIED\n",
    "df['waterfront'] = df['waterfront'].fillna('UNVERIFIED')"
   ]
  },
  {
   "cell_type": "code",
   "execution_count": null,
   "metadata": {},
   "outputs": [],
   "source": [
    "#  confirming null values in waterfront\n",
    "df.isna().sum()"
   ]
  },
  {
   "cell_type": "code",
   "execution_count": null,
   "metadata": {},
   "outputs": [],
   "source": [
    "#checking the view variable\n",
    "df['view'].value_counts()"
   ]
  },
  {
   "cell_type": "code",
   "execution_count": null,
   "metadata": {},
   "outputs": [],
   "source": [
    "#dropping the nulls in view column \n",
    "# df['view'].dropna(inplace=True)\n",
    "df.dropna(subset = [\"view\"], inplace=True)\n"
   ]
  },
  {
   "cell_type": "code",
   "execution_count": null,
   "metadata": {},
   "outputs": [],
   "source": [
    "df.isna().sum()"
   ]
  },
  {
   "cell_type": "code",
   "execution_count": null,
   "metadata": {},
   "outputs": [],
   "source": [
    "#dropping the nulls in yr-renovated column \n",
    "df.dropna(subset = [\"yr_renovated\"], inplace=True)"
   ]
  },
  {
   "cell_type": "code",
   "execution_count": null,
   "metadata": {},
   "outputs": [],
   "source": [
    "# confirming for nulls\n",
    "df.isna().sum()"
   ]
  },
  {
   "cell_type": "code",
   "execution_count": null,
   "metadata": {},
   "outputs": [],
   "source": [
    "df['condition'].value_counts()"
   ]
  },
  {
   "cell_type": "code",
   "execution_count": null,
   "metadata": {},
   "outputs": [],
   "source": [
    "df['sqft_basement'].value_counts()"
   ]
  },
  {
   "cell_type": "code",
   "execution_count": null,
   "metadata": {},
   "outputs": [],
   "source": [
    "#The sqft_basement has ? as a variable making it an object, fixing that;\n",
    "df.loc[df['sqft_basement'] == '?', 'sqft_basement'] = 0 # convert ? to 0\n",
    "df.sqft_basement = df.sqft_basement.astype(np.float64) # change from string\n",
    "df['sqft_basement']"
   ]
  },
  {
   "cell_type": "code",
   "execution_count": null,
   "metadata": {},
   "outputs": [],
   "source": [
    "# confirming there's no ?\n",
    "df['sqft_basement'].value_counts()"
   ]
  },
  {
   "cell_type": "code",
   "execution_count": null,
   "metadata": {},
   "outputs": [],
   "source": [
    "df.columns"
   ]
  },
  {
   "cell_type": "code",
   "execution_count": null,
   "metadata": {},
   "outputs": [],
   "source": [
    "df.info()"
   ]
  },
  {
   "cell_type": "markdown",
   "metadata": {},
   "source": [
    "## Exploratory Data Analysis"
   ]
  },
  {
   "cell_type": "code",
   "execution_count": null,
   "metadata": {},
   "outputs": [],
   "source": [
    "#Check numnber of rows and columns \n",
    "df.shape"
   ]
  },
  {
   "cell_type": "code",
   "execution_count": null,
   "metadata": {},
   "outputs": [],
   "source": [
    "df.describe()"
   ]
  },
  {
   "cell_type": "code",
   "execution_count": null,
   "metadata": {},
   "outputs": [],
   "source": [
    "# Set figure size\n",
    "plt.figure(figsize=(10, 5))\n",
    "\n",
    "# Create histogram with Seaborn\n",
    "sns.histplot(df['price'], bins=30, kde=True, color='skyblue')\n",
    "\n",
    "# Plot vertical line representing mean price\n",
    "plt.axvline(df['price'].mean(), color='black', linestyle='dashed', linewidth=2)\n",
    "\n",
    "# Annotate mean price on the plot\n",
    "plt.text(df['price'].mean() * 1.1, plt.ylim()[1] * 0.5, 'Mean: ${:,.0f}'.format(df['price'].mean()), fontsize=12)\n",
    "\n",
    "# Format xticks by including $ sign, adding commas, and removing decimals\n",
    "plt.gca().xaxis.set_major_formatter(StrMethodFormatter('${x:,.0f}'))\n",
    "\n",
    "# Rotate x-ticks \n",
    "plt.xticks(rotation=30)\n",
    "\n",
    "# Set labels and title\n",
    "plt.xlabel('Price', fontweight=\"bold\", fontsize=18, labelpad=15)\n",
    "plt.ylabel('Count', fontweight=\"bold\", fontsize=18, labelpad=15)\n",
    "plt.title('Distribution of Single-Family Home Prices in Kings County', fontweight=\"bold\", fontsize=18, pad=15)\n",
    "\n",
    "# Show plot\n",
    "plt.show()\n"
   ]
  },
  {
   "cell_type": "code",
   "execution_count": null,
   "metadata": {},
   "outputs": [],
   "source": [
    "print(\"The skewness of the price column\", df['price'].skew())\n",
    "print(\"The kurtosis of the price column\", df['price'].kurt())"
   ]
  },
  {
   "cell_type": "markdown",
   "metadata": {},
   "source": [
    "The density plot illustrates that the price distribution differs from a normal curve, indicating significant positive skewness. This suggests that a majority of houses were sold below the average price, resulting in a lengthy tail towards higher prices. Moreover, the plot displays a leptokurtic kurtosis|, signifying an abundance of outliers with elongated tails."
   ]
  },
  {
   "cell_type": "markdown",
   "metadata": {},
   "source": [
    "### mode"
   ]
  },
  {
   "cell_type": "markdown",
   "metadata": {},
   "source": [
    "\n",
    "To gain a better understanding of the characteristics of homes in the area, we used the mode function to compare the number of bathrooms, bedrooms, and floors in the dataset. By identifying the most common values for these features, we aimed to provide insights into the typical configuration of homes in the area."
   ]
  },
  {
   "cell_type": "code",
   "execution_count": null,
   "metadata": {},
   "outputs": [],
   "source": [
    "def get_mode(data, column):\n",
    "    \"\"\"Calculate the mode of a column in the dataset.\"\"\"\n",
    "    return data[column].mode()\n",
    "\n",
    "# Calculate the mode for bathrooms\n",
    "bathrooms_mode = get_mode(df, 'bathrooms')\n",
    "print(\"Mode of bathrooms:\", bathrooms_mode)\n",
    "\n",
    "# Calculate the mode for bedrooms\n",
    "bedrooms_mode = get_mode(df, 'bedrooms')\n",
    "print(\"Mode of bedrooms:\", bedrooms_mode)\n",
    "\n",
    "# Calculate the mode for floors\n",
    "floors_mode = get_mode(df, 'floors')\n",
    "print(\"Mode of floors:\", floors_mode)\n"
   ]
  },
  {
   "cell_type": "markdown",
   "metadata": {},
   "source": [
    "\n",
    "To visually represent the findings of the mode calculations for bathrooms, bedrooms, and floors, we\n",
    "created a bar chart. Each bar in the chart corresponds to the mode value for each feature. This visualization provides a clear comparison of the most common configurations of these features in the dataset."
   ]
  },
  {
   "cell_type": "code",
   "execution_count": null,
   "metadata": {},
   "outputs": [],
   "source": [
    "# Create a bar chart to visualize the modes\n",
    "plt.figure(figsize=(8, 6))\n",
    "plt.bar(['Bathrooms', 'Bedrooms', 'Floors'], [bathrooms_mode[0], bedrooms_mode[0], floors_mode[0]], color=['skyblue', 'lightgreen', 'salmon'])\n",
    "plt.xlabel('Features', fontweight=\"bold\", fontsize=18, labelpad=15)\n",
    "plt.ylabel('Mode', fontweight=\"bold\", fontsize=18, labelpad=15)\n",
    "plt.title('Most Common Features in Homes', fontweight=\"bold\", fontsize=18, pad=15)\n",
    "plt.show()"
   ]
  },
  {
   "cell_type": "markdown",
   "metadata": {},
   "source": [
    "The analysis reveals that the majority of homes in the dataset have at least 3 bedrooms, 2 bathrooms, and 1 floor."
   ]
  },
  {
   "cell_type": "markdown",
   "metadata": {},
   "source": [
    "### Correlation"
   ]
  },
  {
   "cell_type": "code",
   "execution_count": null,
   "metadata": {},
   "outputs": [],
   "source": [
    "def get_correlation_df(df):\n",
    "    corr_df = df.corr().abs().stack().reset_index().sort_values(0, ascending=False)\n",
    "    corr_df['pairs'] = list(zip(corr_df.level_0, corr_df.level_1))\n",
    "    corr_df.set_index(['pairs'], inplace=True)\n",
    "    corr_df.drop(columns=['level_1', 'level_0'], inplace=True)\n",
    "    corr_df.columns = ['cc']\n",
    "    corr_df = corr_df.drop_duplicates()\n",
    "    return corr_df.head(50)\n"
   ]
  },
  {
   "cell_type": "code",
   "execution_count": null,
   "metadata": {},
   "outputs": [],
   "source": [
    "# Check for variables with correlation >= 0.75\n",
    "high_corr = df.corr > 0.75\n",
    "\n",
    "# Print variables with high correlation\n",
    "print(\"Variables with correlation >= 0.75:\")\n",
    "print(high_corr[high_corr == True].stack().reset_index())\n",
    "\n",
    "# Print correlation dataframe\n",
    "print(\"\\nCorrelation dataframe:\")\n",
    "print(get_correlation_df(df))"
   ]
  },
  {
   "cell_type": "markdown",
   "metadata": {},
   "source": [
    "The correlation analysis reveals high correlations between square footage-related features and property grade, suggesting potential multicollinearity issues. For instance, 'sqft_above' and 'sqft_living' exhibit a correlation of 0.876, indicating redundant information about property size, which can lead to multicollinearity in predictive modeling."
   ]
  },
  {
   "cell_type": "code",
   "execution_count": null,
   "metadata": {},
   "outputs": [],
   "source": [
    "#set up heatmap\n",
    "fig, ax = plt.subplots(figsize=(17, 12))\n",
    "\n",
    "# Load data (replace df with your dataframe)\n",
    "# df = pd.read_csv('your_data.csv')\n",
    "\n",
    "# Calculate correlation matrix\n",
    "corr = df.corr().abs()\n",
    "\n",
    "# Plot heatmap\n",
    "sns.heatmap(corr, cmap='YlOrRd', annot=True, ax=ax)\n",
    "sns.set(font_scale=1.0)\n",
    "\n",
    "# Add title\n",
    "ax.set_title(\"Target Variable Correlation Heatmap\", fontweight=\"bold\", fontsize=18, pad=15)\n",
    "plt.show()"
   ]
  },
  {
   "cell_type": "markdown",
   "metadata": {},
   "source": [
    "The correlation values range from -1 to 1, where 1 indicates a perfect positive correlation, -1 indicates a perfect negative correlation, and 0 indicates no correlation. Positive correlations suggest variables increase together, while negative correlations suggest one variable increases as the other decreases. Correlations closer to ±1 indicate strong relationships, while values closer to 0 suggest weaker associations."
   ]
  },
  {
   "cell_type": "code",
   "execution_count": null,
   "metadata": {
    "scrolled": true
   },
   "outputs": [],
   "source": [
    "as"
   ]
  },
  {
   "cell_type": "code",
   "execution_count": null,
   "metadata": {},
   "outputs": [],
   "source": [
    "df['sqft_living15']"
   ]
  },
  {
   "cell_type": "code",
   "execution_count": null,
   "metadata": {},
   "outputs": [],
   "source": [
    "import matplotlib.pyplot as plt\n",
    "\n",
    "plt.figure(figsize=(8, 6))\n",
    "plt.scatter(df['sqft_living15'], df['price'], alpha=0.5)\n",
    "plt.title('Price vs Sqft Living15')\n",
    "plt.xlabel('Sqft Living15')\n",
    "plt.ylabel('Price')\n",
    "plt.show()\n"
   ]
  },
  {
   "cell_type": "markdown",
   "metadata": {},
   "source": [
    "## Home Location"
   ]
  },
  {
   "cell_type": "code",
   "execution_count": null,
   "metadata": {},
   "outputs": [],
   "source": [
    "plt.figure(figsize=(14, 10))\n",
    "plt.title('Home Location vs. Price', fontweight='bold', fontsize=18, pad=15)\n",
    "# Adjusting colormap parameters for better clarity\n",
    "sns.scatterplot(x=df['long'], y=df['lat'], hue=df['price'], cmap='coolwarm', \n",
    "                hue_norm=(df['price'].min(), df['price'].max()), s=80, alpha=0.8)\n",
    "plt.xlabel('Longitude',fontweight='bold', fontsize=18, labelpad=15)\n",
    "plt.ylabel('Latitude',fontweight='bold', fontsize=18, labelpad=15)\n",
    "plt.tight_layout()\n",
    "plt.show()"
   ]
  },
  {
   "cell_type": "markdown",
   "metadata": {},
   "source": [
    "We utilized longitude and latitude data to generate a map showcasing the spatial distribution of property prices across Kings County. This visualization offers a holistic perspective of the region and aids in understanding the geographical variations in property values. Additionally, longitude and latitude coordinates serve as crucial geospatial indicators for conducting further spatial analysis and identifying location-specific trends within the dataset."
   ]
  },
  {
   "cell_type": "markdown",
   "metadata": {},
   "source": [
    "## Dealing with Categorical Variables"
   ]
  },
  {
   "cell_type": "code",
   "execution_count": null,
   "metadata": {},
   "outputs": [],
   "source": [
    "fig, ax = plt.subplots(figsize=(10, 6))\n",
    "sns.barplot(x='waterfront', y='price', data=df, ax=ax)\n",
    "ax.set_xlabel('Waterfront', fontweight='bold', fontsize=18, labelpad=15)\n",
    "ax.set_ylabel('Price', fontweight='bold', fontsize=18, labelpad=15)\n",
    "ax.set_title('Average Prices for Properties with/without Waterfront', fontweight='bold', fontsize=18,pad=15)\n",
    "plt.show()\n"
   ]
  },
  {
   "cell_type": "code",
   "execution_count": null,
   "metadata": {},
   "outputs": [],
   "source": [
    "fig, ax = plt.subplots(figsize=(10, 6))\n",
    "sns.barplot(data=df, x='condition', y='price', ax=ax)\n",
    "ax.set_xlabel('Condition', fontweight='bold', fontsize=18, labelpad=15)\n",
    "ax.set_ylabel('Price', fontweight='bold', fontsize=18, labelpad=15)\n",
    "ax.set_title('Average Prices by Property Condition', fontweight='bold', fontsize=18, pad=15)\n",
    "plt.show()\n"
   ]
  },
  {
   "cell_type": "code",
   "execution_count": null,
   "metadata": {},
   "outputs": [],
   "source": [
    "fig, ax = plt.subplots(figsize=(10, 6))\n",
    "sns.barplot(data=df, x='view', y='price', ax=ax)\n",
    "ax.set_xlabel('View Quality', fontweight='bold', fontsize=18, labelpad=15)\n",
    "ax.set_ylabel('Price', fontweight='bold', fontsize=18, labelpad=15)\n",
    "ax.set_title('Average Prices by View Quality', fontweight='bold', fontsize=18, pad=15)\n",
    "plt.show()\n"
   ]
  },
  {
   "cell_type": "code",
   "execution_count": null,
   "metadata": {},
   "outputs": [],
   "source": [
    "fig, ax = plt.subplots(figsize=(10, 6))\n",
    "sns.barplot(data=df, x='grade', y='price', ax=ax)\n",
    "ax.set_xticklabels(ax.get_xticklabels(), rotation=45, ha=\"right\")\n",
    "ax.set_xlabel('Grade', fontweight='bold', fontsize=18, labelpad=15)\n",
    "ax.set_ylabel('Price', fontweight='bold', fontsize=18, labelpad=15)\n",
    "ax.set_title('Average Prices by Property Grade', fontweight='bold', fontsize=18, pad=15)\n",
    "plt.show()\n"
   ]
  },
  {
   "cell_type": "markdown",
   "metadata": {},
   "source": [
    "The plots indicate that houses in good condition and with excellent views tend to command higher prices."
   ]
  },
  {
   "cell_type": "markdown",
   "metadata": {},
   "source": [
    "## Baseline Model"
   ]
  },
  {
   "cell_type": "code",
   "execution_count": null,
   "metadata": {},
   "outputs": [],
   "source": [
    "# Create feature matrix X and target vector y\n",
    "features = [\"bathrooms\"]\n",
    "target = \"price\"\n",
    "X = df[features]\n",
    "y = df[target]\n",
    "\n",
    "\n",
    "# Baseline for regression problem to be set by mean()\n",
    "y_mean = y.mean()\n",
    "\n",
    "# list of y_mean()\n",
    "y_pred_baseline = [y_mean]*len(y)\n",
    "\n",
    "\n",
    "len(y_pred_baseline)"
   ]
  },
  {
   "cell_type": "code",
   "execution_count": null,
   "metadata": {},
   "outputs": [],
   "source": [
    "len(y_pred_baseline) == len(y)"
   ]
  },
  {
   "cell_type": "code",
   "execution_count": null,
   "metadata": {},
   "outputs": [],
   "source": [
    "# visualize the y_pred_baseline (linear Regression)\n",
    "plt.plot(X.values, y_pred_baseline, color=\"orange\", label=\"Baseline Model\")\n",
    "plt.scatter(X, y)\n",
    "plt.legend();"
   ]
  },
  {
   "cell_type": "code",
   "execution_count": null,
   "metadata": {},
   "outputs": [],
   "source": [
    "# Performance matrix (MAE)\n",
    "mae_baseline = mean_absolute_error(y, y_pred_baseline)\n",
    "print(\"Mean house price: \", round(y_mean,2))\n",
    "print(\"MAE baseline: \", round(mae_baseline,2))\n",
    "print(\"This means whenever we use this model, we will be off the the actual house prices by less than\", mae_baseline)"
   ]
  },
  {
   "cell_type": "code",
   "execution_count": null,
   "metadata": {},
   "outputs": [],
   "source": [
    "# Train-test split (80% train, 20% test)\n",
    "X_train, X_test, y_train, y_test = train_test_split(X, y, test_size=0.2, random_state=42)\n",
    "\n",
    "# 1st actual model (Linear Regression)\n",
    "actual_model_1 = LinearRegression()\n",
    "actual_model_1.fit(X_train, y_train)\n",
    "\n",
    "# Visualize predictions vs. actual prices\n",
    "y_pred = actual_model_1.predict(X_test)\n",
    "\n",
    "plt.scatter(y_test, y_pred, alpha=0.5)\n",
    "plt.plot([min(y_test), max(y_test)], [min(y_test), max(y_test)], 'k--', lw=2)\n",
    "plt.xlabel(\"Actual Prices\")\n",
    "plt.ylabel(\"Predicted Prices\")\n",
    "plt.title(\"Baseline Model: Actual vs. Predicted Prices\")\n",
    "plt.show()\n",
    "\n",
    "# Evaluate the baseline model (RMSE)\n",
    "rmse = np.sqrt(mean_squared_error(y_test, y_pred))\n",
    "print(f\"Root Mean Squared Error (RMSE): {rmse:.2f}\")\n"
   ]
  },
  {
   "cell_type": "code",
   "execution_count": null,
   "metadata": {},
   "outputs": [],
   "source": [
    "#Encoding the categorical variable\n",
    "def categorical_encoding(df):\n",
    "    categorical_columns = df.select_dtypes(include=['object', 'category']).columns # Identify categorical columns\n",
    "    dataframe_encoded = pd.get_dummies(df, columns=categorical_columns, drop_first=True) #one-hot coding \n",
    "    return dataframe_encoded\n",
    "df = categorical_encoding(df)\n",
    "df.head()"
   ]
  },
  {
   "cell_type": "code",
   "execution_count": null,
   "metadata": {},
   "outputs": [],
   "source": [
    "df.info()"
   ]
  },
  {
   "cell_type": "code",
   "execution_count": null,
   "metadata": {},
   "outputs": [],
   "source": [
    "#correlation between all the variables in ascending order \n",
    "correl = df.corr()['price'].sort_values(ascending=False)\n",
    "correl"
   ]
  },
  {
   "cell_type": "code",
   "execution_count": null,
   "metadata": {},
   "outputs": [],
   "source": [
    "#simple linear regression for price against Square footage of living space in the home\n",
    "import pandas as pd\n",
    "import numpy as np\n",
    "import matplotlib.pyplot as plt\n",
    "import statsmodels.api as sm\n",
    "from sklearn.model_selection import train_test_split\n",
    "\n",
    "def simple_linear_regressions(x, y):\n",
    "    # Scatter plot\n",
    "    plt.figure(figsize=(10, 6))\n",
    "    plt.scatter(x, y, color='blue', alpha=0.5)\n",
    "    plt.title('Scatter Plot: Price vs sqft_living')\n",
    "    plt.xlabel('Square footage of living space in the home')\n",
    "    plt.ylabel('Price')\n",
    "    plt.grid(True)\n",
    "    \n",
    "    # Add constant term to the independent variable\n",
    "    x = sm.add_constant(x)\n",
    "    \n",
    "    # Split data into train and test sets\n",
    "    x_train, x_test, y_train, y_test = train_test_split(x, y, test_size=0.2, random_state=42)\n",
    "    \n",
    "    # Fit model on training data\n",
    "    model = sm.OLS(y_train, x_train)\n",
    "    results = model.fit()\n",
    "    \n",
    "    # Print summary\n",
    "    print(results.summary())\n",
    "\n",
    "    # Predict on test data\n",
    "    y_pred = results.predict(x_test)\n",
    "    \n",
    "    # Plot regression line\n",
    "    plt.plot(x_test.iloc[:, 1], y_pred, color='red')\n",
    "    plt.show()\n",
    "\n",
    "# Usage example:\n",
    "x = df[['sqft_living']]\n",
    "y = df['price']\n",
    "simple_linear_regressions(x, y)\n",
    "\n",
    "\n"
   ]
  },
  {
   "cell_type": "code",
   "execution_count": null,
   "metadata": {},
   "outputs": [],
   "source": [
    "#simple linear regression for price against bathrooms\n",
    "import pandas as pd\n",
    "import numpy as np\n",
    "import matplotlib.pyplot as plt\n",
    "import statsmodels.api as sm\n",
    "from sklearn.model_selection import train_test_split\n",
    "\n",
    "def simple_linear_regressions(x, y):\n",
    "    # Scatter plot\n",
    "    plt.figure(figsize=(10, 6))\n",
    "    plt.scatter(x, y, color='blue', alpha=0.5)\n",
    "    plt.title('Scatter Plot: Price vs bathrooms')\n",
    "    plt.xlabel('bathrooms')\n",
    "    plt.ylabel('Price')\n",
    "    plt.grid(True)\n",
    "    \n",
    "    # Add constant term to the independent variable\n",
    "    x = sm.add_constant(x)\n",
    "    \n",
    "    # Split data into train and test sets\n",
    "    x_train, x_test, y_train, y_test = train_test_split(x, y, test_size=0.2, random_state=42)\n",
    "    \n",
    "    # Fit model on training data\n",
    "    model = sm.OLS(y_train, x_train)\n",
    "    results = model.fit()\n",
    "    \n",
    "    # Print summary\n",
    "    print(results.summary())\n",
    "\n",
    "    # Predict on test data\n",
    "    y_pred = results.predict(x_test)\n",
    "    \n",
    "    # Plot regression line\n",
    "    plt.plot(x_test.iloc[:, 1], y_pred, color='red')\n",
    "    plt.show()\n",
    "\n",
    "# Usage example:\n",
    "x = df[['bathrooms']]\n",
    "y = df['price']\n",
    "simple_linear_regressions(x, y)\n"
   ]
  },
  {
   "cell_type": "code",
   "execution_count": null,
   "metadata": {},
   "outputs": [],
   "source": [
    "#simple linear regression for price against bedrooms\n",
    "import pandas as pd\n",
    "import numpy as np\n",
    "import matplotlib.pyplot as plt\n",
    "import statsmodels.api as sm\n",
    "from sklearn.model_selection import train_test_split\n",
    "\n",
    "def simple_linear_regressions(x, y):\n",
    "    # Scatter plot\n",
    "    plt.figure(figsize=(10, 6))\n",
    "    plt.scatter(x, y, color='blue', alpha=0.5)\n",
    "    plt.title('Scatter Plot: Price vs bedrooms')\n",
    "    plt.xlabel('bedrooms')\n",
    "    plt.ylabel('Price')\n",
    "    plt.grid(True)\n",
    "    \n",
    "    # Add constant term to the independent variable\n",
    "    x = sm.add_constant(x)\n",
    "    \n",
    "    # Split data into train and test sets\n",
    "    x_train, x_test, y_train, y_test = train_test_split(x, y, test_size=0.2, random_state=42)\n",
    "    \n",
    "    # Fit model on training data\n",
    "    model = sm.OLS(y_train, x_train)\n",
    "    results = model.fit()\n",
    "    \n",
    "    # Print summary\n",
    "    print(results.summary())\n",
    "\n",
    "    # Predict on test data\n",
    "    y_pred = results.predict(x_test)\n",
    "    \n",
    "    # Plot regression line\n",
    "    plt.plot(x_test.iloc[:, 1], y_pred, color='red')\n",
    "    plt.show()\n",
    "\n",
    "# Usage example:\n",
    "x = df[['bedrooms']]\n",
    "y = df['price']\n",
    "simple_linear_regressions(x, y)\n"
   ]
  },
  {
   "cell_type": "markdown",
   "metadata": {},
   "source": [
    "### Multiple Linear Regression"
   ]
  },
  {
   "cell_type": "code",
   "execution_count": null,
   "metadata": {
    "scrolled": true
   },
   "outputs": [],
   "source": [
    "new_df = df[['price', 'bathrooms', 'bedrooms', 'sqft_lot', 'sqft_living', 'grade_']]\n",
    "def multiple_linear_regression(new_df):\n",
    "\n",
    "    # df = df.apply(pd.to_numeric, errors='coerce')\n",
    "\n",
    "    # Independent variables (features)\n",
    "   \n",
    "\n",
    "    x = new_df.drop(columns = 'price')\n",
    "\n",
    "    # Dependent variable (target)\n",
    "    y = new_df[\"price\"]\n",
    "    \n",
    "    # Add constant term to the independent variable\n",
    "    \n",
    "    # Split data into train and test sets\n",
    "    x_train, x_test, y_train, y_test = train_test_split(x, y, test_size=0.2, random_state=42)\n",
    "    \n",
    "    # Fit model on training data\n",
    "    model = sm.OLS(y_train,  sm.add_constant(x_train))\n",
    "    results = model.fit()\n",
    "    \n",
    "    # Print summary\n",
    "    print(results.summary())\n",
    "\n",
    "    # Predict on test data\n",
    "    y_pred = results.predict(sm.add_constant(x_test))\n",
    "    \n",
    "multiple_linear_regression(new_df)\n"
   ]
  },
  {
   "cell_type": "markdown",
   "metadata": {},
   "source": [
    "Checking for Multicollinearity"
   ]
  },
  {
   "cell_type": "code",
   "execution_count": null,
   "metadata": {},
   "outputs": [],
   "source": [
    "# creating a function that takes in a dataframe and threshold and returns top correlations \n",
    "\n",
    "def corr_check(df, threshold):\n",
    "    '''\n",
    "    Enter dataframe and threshold for correlation\n",
    "    Returns table of the highly correlated pairs\n",
    "    '''\n",
    "    corr_df = df.corr().abs().stack().reset_index().sort_values(0, ascending=False)\n",
    "    corr_df['pairs'] = list(zip(corr_df.level_0, corr_df.level_1))\n",
    "    corr_df.set_index(['pairs'], inplace = True)\n",
    "    corr_df.drop(columns=['level_1', 'level_0'], inplace = True)\n",
    "    corr_df.columns = ['cc']\n",
    "    corr_df = corr_df.drop_duplicates()\n",
    "    corr_df = corr_df[(corr_df['cc'] > threshold) & (corr_df['cc'] < 1)]\n",
    "    return corr_df\n",
    "\n",
    "corr_check(new_df, .7)\n",
    "\n"
   ]
  },
  {
   "cell_type": "markdown",
   "metadata": {},
   "source": [
    "\n",
    "When designing this MLE algorithm to predict house prices, we should consider the correlation between features and the objective of the analysis.\n",
    "In this context, focusing on features directly related to the physical attributes of the property, such as 'sqft_living' and 'bathrooms',\n",
    "aligns better with the objective of predicting house prices. \n",
    "Additionally, considering the other pairs of correlations provided, features like 'sqft_living' and 'bathrooms' also have strong correlations with the target variable 'price'. Therefore, prioritizing these features in the model might be more beneficial for accurately predicting house prices.\n",
    "Thus, excluding 'grade_' helps mitigate multicollinearity and enhances the interpretability and predictive performance of the model.\n"
   ]
  },
  {
   "cell_type": "code",
   "execution_count": null,
   "metadata": {},
   "outputs": [],
   "source": [
    "\n",
    "# dropping grade_ column due to multicollinearity\n",
    "new_df = new_df.drop(['grade_'], axis=1)"
   ]
  },
  {
   "cell_type": "code",
   "execution_count": null,
   "metadata": {},
   "outputs": [],
   "source": [
    "# Using linear regression\n",
    "\n",
    "lr = LinearRegression()"
   ]
  },
  {
   "cell_type": "code",
   "execution_count": null,
   "metadata": {},
   "outputs": [],
   "source": [
    "# Our model needs to have only numeric variables. \n",
    "\n",
    "def only_numeric(df):\n",
    "\n",
    "    '''returns a dataframe with only numeric values'''\n",
    "    \n",
    "    for column in df.columns:\n",
    "        if is_numeric_dtype(df[column]) == False:\n",
    "            df = df.drop(column, axis=1)\n",
    "        else:\n",
    "            continue\n",
    "    return df\n"
   ]
  },
  {
   "cell_type": "code",
   "execution_count": null,
   "metadata": {},
   "outputs": [],
   "source": [
    "def split_target_predictors(data, target_column):\n",
    "    '''Splits a DataFrame into target (y) and predictor (X) DataFrames.'''\n",
    "    y = data['price']\n",
    "    X = data.drop(columns=['price'])\n",
    "    return y, X\n"
   ]
  },
  {
   "cell_type": "code",
   "execution_count": null,
   "metadata": {},
   "outputs": [],
   "source": [
    "\n",
    "\n",
    "def calculate_metrics(lr_model, X_train, X_test, y_train, y_test):\n",
    "    '''Calculates R-squared and RMSE metrics for training and test sets'''\n",
    "    \n",
    "    # Fit the linear regression model on the training data\n",
    "    lr_model.fit(X_train, y_train)\n",
    "    \n",
    "    # Predictions on training and test sets\n",
    "    y_pred_train = lr_model.predict(X_train)\n",
    "    y_pred_test = lr_model.predict(X_test)\n",
    "    \n",
    "    # Calculate R-squared for training and test sets\n",
    "    train_r2 = r2_score(y_train, y_pred_train)\n",
    "    test_r2 = r2_score(y_test, y_pred_test)\n",
    "    \n",
    "    # Calculate RMSE for training and test sets\n",
    "    train_rmse = np.sqrt(mean_squared_error(y_train, y_pred_train))\n",
    "    test_rmse = np.sqrt(mean_squared_error(y_test, y_pred_test))\n",
    "    \n",
    "    return train_r2, test_r2, train_rmse, test_rmse\n"
   ]
  },
  {
   "cell_type": "code",
   "execution_count": null,
   "metadata": {},
   "outputs": [],
   "source": [
    "def train_test_compare(X_tr, X_te, y_tr, y_te):\n",
    "    '''Performs multiple regression on the split test and prints metrics'''\n",
    "    lr.fit(X_tr, y_tr)\n",
    "    train_score = lr.score(X_tr, y_tr)\n",
    "    test_score = lr.score(X_te, y_te)\n",
    "    y_hat_train = lr.predict(X_tr)\n",
    "    y_hat_test = lr.predict(X_te)\n",
    "    train_rmse = np.sqrt(mean_squared_error(y_tr, y_hat_train))\n",
    "    test_rmse = np.sqrt(mean_squared_error(y_te, y_hat_test))\n",
    "    print(f' training data R2: {train_score}\\n testing data R2: {test_score} \\\n",
    "                    \\n training data rmse: {train_rmse}\\n testing data rmse: {test_rmse}')\n",
    "    \n",
    "\n",
    "    inter = lr.intercept_\n",
    "    stats = sm.OLS(y_tr, sm.add_constant(X_tr)).fit()\n",
    "    summary = stats.summary()\n",
    "    print(summary)\n",
    "\n",
    " # Create a scatter plot comparing the predicted values to the actual values for both the training and testing data.\n",
    "    plt.figure(figsize=(10, 6))\n",
    "\n",
    "    plt.scatter(y_tr, y_hat_train, alpha=0.5, color='#00BFFF', label='train')\n",
    "    sns.regplot(x=y_tr, y=y_hat_train, scatter=False, color='r', label='train fit')\n",
    "\n",
    "    plt.scatter(y_te, y_hat_test, alpha=0.5, color='#FFC0CB', label='test')\n",
    "    sns.regplot(x=y_te, y=y_hat_test, scatter=False, color='g', label='test fit')\n",
    "\n",
    "    plt.scatter(x=y, y=y, color='maroon', alpha=0.3, label='actual')\n",
    "\n",
    "    plt.xlabel('Actual Price')\n",
    "    plt.ylabel('Predicted Price')\n",
    "    plt.title('Actual Price vs Predicted Price')\n",
    "\n",
    "    plt.legend()\n",
    "    plt.grid()\n",
    "    plt.show()\n"
   ]
  },
  {
   "cell_type": "code",
   "execution_count": null,
   "metadata": {},
   "outputs": [],
   "source": [
    "def train_test(data, size=.2):\n",
    "    '''Takes in dataframe, and size of test for the split\n",
    "        Returns the train_set and test_set'''\n",
    "    train_set, test_set = train_test_split(data, test_size=size, random_state=42)\n",
    "    return train_set, test_set\n",
    "\n"
   ]
  },
  {
   "cell_type": "code",
   "execution_count": null,
   "metadata": {},
   "outputs": [],
   "source": [
    "baseline = only_numeric(new_df)\n",
    "baseline_train_set, baseline_test_set = train_test(baseline, .25)\n",
    "train_set, test_set = train_test(new_df, .25)"
   ]
  },
  {
   "cell_type": "code",
   "execution_count": null,
   "metadata": {},
   "outputs": [],
   "source": [
    "y_train, X_train = split_target_predictors(baseline_train_set, 'price')\n",
    "y_test, X_test = split_target_predictors(baseline_test_set, 'price')\n"
   ]
  },
  {
   "cell_type": "code",
   "execution_count": null,
   "metadata": {},
   "outputs": [],
   "source": [
    "\n",
    "# Replace NaN values with mean imputation\n",
    "imputer = SimpleImputer(strategy='mean')\n",
    "X_train_imputed = imputer.fit_transform(X_train)\n",
    "X_test_imputed = imputer.transform(X_test)\n",
    "\n",
    "\n",
    "\n",
    "\n",
    "train_test_compare(X_train_imputed, X_test_imputed, y_train, y_test)\n",
    "\n"
   ]
  },
  {
   "cell_type": "markdown",
   "metadata": {},
   "source": [
    "\n",
    "The multiple linear regression model achieved an R-squared value of 0.508 on the training data and 0.512 on the testing data, indicating that around 51% of the variance in the target variable, price, is explained by the model. However, the root mean square error (RMSE) for both training and testing data is relatively high, with values of approximately 257,078 and 258,839, respectively. The regression coefficients suggest that variables bathrooms and bedrooms have the most significant impact on the price, as they have the largest magnitudes and smallest p-values. \n",
    "\n",
    "\n",
    "\n",
    "\n"
   ]
  },
  {
   "cell_type": "markdown",
   "metadata": {},
   "source": [
    "### Linear Transformation\n",
    "# Log Transformation Model"
   ]
  },
  {
   "cell_type": "code",
   "execution_count": null,
   "metadata": {},
   "outputs": [],
   "source": [
    "# Copying the base model dataframe\n",
    "log_model_df = new_df.copy()\n",
    "colums_transform = ['price']\n",
    "\n",
    "for col in colums_transform:\n",
    "    log_model_df[col] = np.log(log_model_df[col])\n",
    "\n",
    "\n",
    "log_model_df.tail()"
   ]
  },
  {
   "cell_type": "code",
   "execution_count": null,
   "metadata": {},
   "outputs": [],
   "source": []
  }
 ],
 "metadata": {
  "kernelspec": {
   "display_name": "Python 3 (ipykernel)",
   "language": "python",
   "name": "python3"
  },
  "language_info": {
   "codemirror_mode": {
    "name": "ipython",
    "version": 3
   },
   "file_extension": ".py",
   "mimetype": "text/x-python",
   "name": "python",
   "nbconvert_exporter": "python",
   "pygments_lexer": "ipython3",
   "version": "3.11.5"
  }
 },
 "nbformat": 4,
 "nbformat_minor": 4
}
